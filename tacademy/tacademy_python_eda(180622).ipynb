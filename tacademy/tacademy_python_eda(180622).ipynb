{
 "cells": [
  {
   "cell_type": "markdown",
   "metadata": {},
   "source": [
    "# Tacademy - (1). Python을 활용한 데이터분석 실습"
   ]
  },
  {
   "cell_type": "markdown",
   "metadata": {},
   "source": [
    "### 1. 강남 출근길에 정자_판교 내릴 사람 예측하기\n",
    "\n",
    "* EDA : 쌓여 있는 데이터를 기반으로 가설을 세워 데이터를 분석하는 방법<br>\n",
    "\n",
    "    * 수집 --> 탐색/정제 --> 모델링 --> 결과 <br>\n",
    "    \n",
    "    * Missing value --> default 처리 / drop / KNN input 등등... <br>\n",
    "   \n",
    "    (Feature Distribution Plot?? / Column Value Validation??) <br>\n",
    "        \n",
    "        \n",
    "* CDA : 목적을 가지고 데이터를 수집하고 분석하는 방법"
   ]
  },
  {
   "cell_type": "code",
   "execution_count": 140,
   "metadata": {},
   "outputs": [
    {
     "name": "stdout",
     "output_type": "stream",
     "text": [
      "C:\\Users\\hanbum\\Desktop\\2018\\work\\2. Project\\3. Personal\\tacademy\\1. python_eda\n"
     ]
    },
    {
     "data": {
      "text/plain": [
       "'C:\\\\Users\\\\hanbum\\\\Desktop\\\\2018\\\\work\\\\2. Project\\\\3. Personal\\\\tacademy\\\\1. python_eda'"
      ]
     },
     "execution_count": 140,
     "metadata": {},
     "output_type": "execute_result"
    }
   ],
   "source": [
    "import pandas as pd\n",
    "import numpy as np\n",
    "import matplotlib.pyplot as plt\n",
    "import seaborn as sns\n",
    "\n",
    "%matplotlib inline\n",
    "\n",
    "%cd C:\\Users\\hanbum\\Desktop\\2018\\work\\2. Project\\3. Personal\\tacademy\\1. python_eda\n",
    "%pwd"
   ]
  },
  {
   "cell_type": "code",
   "execution_count": 128,
   "metadata": {},
   "outputs": [],
   "source": [
    "raw = pd.read_csv('passenser_raw.data' ,engine='python', encoding='utf-8',sep=' / ')"
   ]
  },
  {
   "cell_type": "code",
   "execution_count": 129,
   "metadata": {},
   "outputs": [
    {
     "data": {
      "text/html": [
       "<div>\n",
       "<style>\n",
       "    .dataframe thead tr:only-child th {\n",
       "        text-align: right;\n",
       "    }\n",
       "\n",
       "    .dataframe thead th {\n",
       "        text-align: left;\n",
       "    }\n",
       "\n",
       "    .dataframe tbody tr th {\n",
       "        vertical-align: top;\n",
       "    }\n",
       "</style>\n",
       "<table border=\"1\" class=\"dataframe\">\n",
       "  <thead>\n",
       "    <tr style=\"text-align: right;\">\n",
       "      <th></th>\n",
       "      <th>platform_loc</th>\n",
       "      <th>ride_time</th>\n",
       "      <th>path</th>\n",
       "      <th>info</th>\n",
       "    </tr>\n",
       "  </thead>\n",
       "  <tbody>\n",
       "    <tr>\n",
       "      <th>0</th>\n",
       "      <td>2-1</td>\n",
       "      <td>2017-07-13 07:30</td>\n",
       "      <td>동천 -&gt; 강남</td>\n",
       "      <td>여3핸정노 남4핸정노 남3잠정이 남3핸세이 여3노세이:판 여5핸평노:판 남3잠정이</td>\n",
       "    </tr>\n",
       "    <tr>\n",
       "      <th>1</th>\n",
       "      <td>2-1</td>\n",
       "      <td>2017-07-14 08:25</td>\n",
       "      <td>동천 -&gt; 강남</td>\n",
       "      <td>남3핸정노 남4핸세이:판 남4핸평노:정 여5잠평노 남3잠평노 여3핸세이 여3핸평노</td>\n",
       "    </tr>\n",
       "    <tr>\n",
       "      <th>2</th>\n",
       "      <td>2-1</td>\n",
       "      <td>2017-07-17 08:17</td>\n",
       "      <td>동천 -&gt; 강남</td>\n",
       "      <td>여2핸평이:정 여3잠세이:판 남4잠세노 여3핸세노 남3책평이 여4잠세노:판 여3현세이</td>\n",
       "    </tr>\n",
       "    <tr>\n",
       "      <th>3</th>\n",
       "      <td>2-1</td>\n",
       "      <td>2017-07-18 08:40</td>\n",
       "      <td>동천 -&gt; 강남</td>\n",
       "      <td>여2핸평이:정 남3핸세노 남4핸평노:정 남2핸평노 여3잠세노 여2핸평노 여3핸평노:정</td>\n",
       "    </tr>\n",
       "    <tr>\n",
       "      <th>4</th>\n",
       "      <td>2-1</td>\n",
       "      <td>2017-07-19 08:20</td>\n",
       "      <td>동천 -&gt; 강남</td>\n",
       "      <td>여2핸평이:판 여2핸평이 여2잠평노 남4잠정노 여3잠정노 여3핸평이 여4현세이</td>\n",
       "    </tr>\n",
       "  </tbody>\n",
       "</table>\n",
       "</div>"
      ],
      "text/plain": [
       "  platform_loc         ride_time      path  \\\n",
       "0          2-1  2017-07-13 07:30  동천 -> 강남   \n",
       "1          2-1  2017-07-14 08:25  동천 -> 강남   \n",
       "2          2-1  2017-07-17 08:17  동천 -> 강남   \n",
       "3          2-1  2017-07-18 08:40  동천 -> 강남   \n",
       "4          2-1  2017-07-19 08:20  동천 -> 강남   \n",
       "\n",
       "                                              info  \n",
       "0    여3핸정노 남4핸정노 남3잠정이 남3핸세이 여3노세이:판 여5핸평노:판 남3잠정이  \n",
       "1    남3핸정노 남4핸세이:판 남4핸평노:정 여5잠평노 남3잠평노 여3핸세이 여3핸평노  \n",
       "2  여2핸평이:정 여3잠세이:판 남4잠세노 여3핸세노 남3책평이 여4잠세노:판 여3현세이  \n",
       "3  여2핸평이:정 남3핸세노 남4핸평노:정 남2핸평노 여3잠세노 여2핸평노 여3핸평노:정  \n",
       "4      여2핸평이:판 여2핸평이 여2잠평노 남4잠정노 여3잠정노 여3핸평이 여4현세이  "
      ]
     },
     "execution_count": 129,
     "metadata": {},
     "output_type": "execute_result"
    }
   ],
   "source": [
    "raw.head()"
   ]
  },
  {
   "cell_type": "code",
   "execution_count": 130,
   "metadata": {},
   "outputs": [
    {
     "data": {
      "text/plain": [
       "Index(['platform_loc', 'ride_time', 'path', 'info'], dtype='object')"
      ]
     },
     "execution_count": 130,
     "metadata": {},
     "output_type": "execute_result"
    }
   ],
   "source": [
    "raw.columns"
   ]
  },
  {
   "cell_type": "code",
   "execution_count": 131,
   "metadata": {},
   "outputs": [],
   "source": [
    "raw['day'] = raw.ride_time.apply(lambda x:x[:10])\n",
    "raw['hour'] = raw.ride_time.apply(lambda x:x[-5:])"
   ]
  },
  {
   "cell_type": "code",
   "execution_count": 132,
   "metadata": {},
   "outputs": [],
   "source": [
    "## convert abbrivation to whole word \n",
    "gender_dict = {\"남\":\"남자\", \"여\":\"여자\"}\n",
    "to_age = lambda x: int(x) * 10\n",
    "action_dict = {\"핸\":\"핸드폰보기\", \"생\":\"생각중\", \"토\":\"토크\", \"책\": \"책읽기\", \"노\": \"노트북\", \"잠\":\"잠자는중\"}\n",
    "dress_code_dict = {\"정\":\"정장\", \"세\":\"세미정장\", \"평\":\"평상복\"}\n",
    "earphone_dict = {\"이\":\"이어폰:O\", \"노\":\"이어폰:X\"}\n",
    "station_dict = {\"정\":\"정자역\", \"판\":\"판교역\"}\n",
    "\n",
    "def parsePassengerInfo(info):\n",
    "    \"\"\"\n",
    "    parsing passenger information as a labels \n",
    "    \n",
    "    \"\"\"\n",
    "    gender = gender_dict.get(info[0], \"남자\")\n",
    "    age = to_age(info[1])\n",
    "    action = action_dict.get(info[2], \"생각중\")\n",
    "    dress = dress_code_dict.get(info[3], \"평상복\")\n",
    "    is_earphone = earphone_dict.get(info[4], \"이어폰사용안함\")\n",
    "\n",
    "    splited_info = info.split(\":\")\n",
    "    exit_station = station_dict.get(splited_info[1], \"강남역\") if len(splited_info)==2 else \"강남역\"\n",
    "    \n",
    "    return [gender, age, action, dress, is_earphone, exit_station]"
   ]
  },
  {
   "cell_type": "code",
   "execution_count": 133,
   "metadata": {},
   "outputs": [],
   "source": [
    "passenger_info_list = []\n",
    "for day, hour, info_list in raw[['day','hour','info']].values:\n",
    "    passenger_info_list.extend([[day, hour, seat_loc] + parsePassengerInfo(info) \\\n",
    "                                for seat_loc, info in enumerate(info_list.split())] )"
   ]
  },
  {
   "cell_type": "code",
   "execution_count": 134,
   "metadata": {},
   "outputs": [],
   "source": [
    "raw = pd.DataFrame(passenger_info_list\n",
    "                , columns=['day', 'hour', 'seat_loc', '성별', '나이', '행동', '복장', '이어폰여부', '내리는역'])"
   ]
  },
  {
   "cell_type": "code",
   "execution_count": 137,
   "metadata": {},
   "outputs": [
    {
     "name": "stdout",
     "output_type": "stream",
     "text": [
      "측정 일수   \t:   46 일\n",
      "측정 승객수  \t:  322 명\n",
      "측정(출근) 시간\t: 07:07 ~ 08:52\n"
     ]
    }
   ],
   "source": [
    "print(\"측정 일수   \\t: %4d 일\" % len(raw.day.unique()))\n",
    "print(\"측정 승객수  \\t: %4d 명\" % raw.shape[0])\n",
    "print(\"측정(출근) 시간\\t: %s ~ %s\" % (raw.hour.min(),raw.hour.max()) )"
   ]
  },
  {
   "cell_type": "code",
   "execution_count": 139,
   "metadata": {},
   "outputs": [],
   "source": [
    "## seat location \n",
    "seat_to_group = {\n",
    "    0:\"좌측:사이드\",\n",
    "    1:\"좌측:사이드\",\n",
    "    2:\"중앙\", \n",
    "    3:\"중앙\", \n",
    "    4:\"중앙\",\n",
    "    5:\"우측:사이드\", \n",
    "    6:\"우측:사이드\"\n",
    "}\n",
    "\n",
    "raw['좌석위치'] = raw['seat_loc'].apply(seat_to_group.get)\n",
    "\n",
    "## station \n",
    "raw['내리는역'] = raw['내리는역'].apply( lambda x: \"강남역\" if x == \"강남역\" else \"판교/정자역\")\n",
    "\n",
    "## age \n",
    "age_to_group = {\n",
    "    10:\"청년\",\n",
    "    20:\"청년\",\n",
    "    30:\"중년\",\n",
    "    40:\"중년\",\n",
    "    50:\"장년\",\n",
    "    60:\"장년\"\n",
    "}\n",
    "\n",
    "raw['연령대'] = raw['나이'].apply(age_to_group.get)\n",
    "raw['count'] = 1"
   ]
  },
  {
   "cell_type": "code",
   "execution_count": 141,
   "metadata": {},
   "outputs": [],
   "source": [
    "passenger = raw"
   ]
  },
  {
   "cell_type": "code",
   "execution_count": 142,
   "metadata": {},
   "outputs": [
    {
     "data": {
      "text/html": [
       "<div>\n",
       "<style>\n",
       "    .dataframe thead tr:only-child th {\n",
       "        text-align: right;\n",
       "    }\n",
       "\n",
       "    .dataframe thead th {\n",
       "        text-align: left;\n",
       "    }\n",
       "\n",
       "    .dataframe tbody tr th {\n",
       "        vertical-align: top;\n",
       "    }\n",
       "</style>\n",
       "<table border=\"1\" class=\"dataframe\">\n",
       "  <thead>\n",
       "    <tr style=\"text-align: right;\">\n",
       "      <th></th>\n",
       "      <th>day</th>\n",
       "      <th>hour</th>\n",
       "      <th>seat_loc</th>\n",
       "      <th>성별</th>\n",
       "      <th>나이</th>\n",
       "      <th>행동</th>\n",
       "      <th>복장</th>\n",
       "      <th>이어폰여부</th>\n",
       "      <th>내리는역</th>\n",
       "      <th>좌석위치</th>\n",
       "      <th>연령대</th>\n",
       "      <th>count</th>\n",
       "    </tr>\n",
       "  </thead>\n",
       "  <tbody>\n",
       "    <tr>\n",
       "      <th>0</th>\n",
       "      <td>2017-07-13</td>\n",
       "      <td>07:30</td>\n",
       "      <td>0</td>\n",
       "      <td>여자</td>\n",
       "      <td>30</td>\n",
       "      <td>핸드폰보기</td>\n",
       "      <td>정장</td>\n",
       "      <td>이어폰:X</td>\n",
       "      <td>강남역</td>\n",
       "      <td>좌측:사이드</td>\n",
       "      <td>중년</td>\n",
       "      <td>1</td>\n",
       "    </tr>\n",
       "    <tr>\n",
       "      <th>1</th>\n",
       "      <td>2017-07-13</td>\n",
       "      <td>07:30</td>\n",
       "      <td>1</td>\n",
       "      <td>남자</td>\n",
       "      <td>40</td>\n",
       "      <td>핸드폰보기</td>\n",
       "      <td>정장</td>\n",
       "      <td>이어폰:X</td>\n",
       "      <td>강남역</td>\n",
       "      <td>좌측:사이드</td>\n",
       "      <td>중년</td>\n",
       "      <td>1</td>\n",
       "    </tr>\n",
       "    <tr>\n",
       "      <th>2</th>\n",
       "      <td>2017-07-13</td>\n",
       "      <td>07:30</td>\n",
       "      <td>2</td>\n",
       "      <td>남자</td>\n",
       "      <td>30</td>\n",
       "      <td>잠자는중</td>\n",
       "      <td>정장</td>\n",
       "      <td>이어폰:O</td>\n",
       "      <td>강남역</td>\n",
       "      <td>중앙</td>\n",
       "      <td>중년</td>\n",
       "      <td>1</td>\n",
       "    </tr>\n",
       "    <tr>\n",
       "      <th>3</th>\n",
       "      <td>2017-07-13</td>\n",
       "      <td>07:30</td>\n",
       "      <td>3</td>\n",
       "      <td>남자</td>\n",
       "      <td>30</td>\n",
       "      <td>핸드폰보기</td>\n",
       "      <td>세미정장</td>\n",
       "      <td>이어폰:O</td>\n",
       "      <td>강남역</td>\n",
       "      <td>중앙</td>\n",
       "      <td>중년</td>\n",
       "      <td>1</td>\n",
       "    </tr>\n",
       "    <tr>\n",
       "      <th>4</th>\n",
       "      <td>2017-07-13</td>\n",
       "      <td>07:30</td>\n",
       "      <td>4</td>\n",
       "      <td>여자</td>\n",
       "      <td>30</td>\n",
       "      <td>노트북</td>\n",
       "      <td>세미정장</td>\n",
       "      <td>이어폰:O</td>\n",
       "      <td>판교/정자역</td>\n",
       "      <td>중앙</td>\n",
       "      <td>중년</td>\n",
       "      <td>1</td>\n",
       "    </tr>\n",
       "  </tbody>\n",
       "</table>\n",
       "</div>"
      ],
      "text/plain": [
       "          day   hour  seat_loc  성별  나이     행동    복장  이어폰여부    내리는역    좌석위치  \\\n",
       "0  2017-07-13  07:30         0  여자  30  핸드폰보기    정장  이어폰:X     강남역  좌측:사이드   \n",
       "1  2017-07-13  07:30         1  남자  40  핸드폰보기    정장  이어폰:X     강남역  좌측:사이드   \n",
       "2  2017-07-13  07:30         2  남자  30   잠자는중    정장  이어폰:O     강남역      중앙   \n",
       "3  2017-07-13  07:30         3  남자  30  핸드폰보기  세미정장  이어폰:O     강남역      중앙   \n",
       "4  2017-07-13  07:30         4  여자  30    노트북  세미정장  이어폰:O  판교/정자역      중앙   \n",
       "\n",
       "  연령대  count  \n",
       "0  중년      1  \n",
       "1  중년      1  \n",
       "2  중년      1  \n",
       "3  중년      1  \n",
       "4  중년      1  "
      ]
     },
     "execution_count": 142,
     "metadata": {},
     "output_type": "execute_result"
    }
   ],
   "source": [
    "passenger.head()"
   ]
  },
  {
   "cell_type": "code",
   "execution_count": 163,
   "metadata": {},
   "outputs": [
    {
     "data": {
      "image/png": "[encoded data removed]",
      "text/plain": [
       "<matplotlib.figure.Figure at 0x29cf01b1a90>"
      ]
     },
     "metadata": {},
     "output_type": "display_data"
    }
   ],
   "source": [
    "sns.set(style=\"whitegrid\", rc={'font.family':'nanumsquare', 'figure.figsize': (12, 5)}, font_scale=1.4)\n",
    "pal = sns.color_palette(\"Set1\", n_colors=9, desat=.6)\n",
    "sns.palplot(pal)\n",
    "sns.set_palette(pal)"
   ]
  },
  {
   "cell_type": "code",
   "execution_count": 149,
   "metadata": {},
   "outputs": [
    {
     "name": "stdout",
     "output_type": "stream",
     "text": [
      "46일 322명 신분당선 지하철 승객 데이터 \n"
     ]
    }
   ],
   "source": [
    "print(\"%d일 %d명 신분당선 지하철 승객 데이터 \" % ( len(passenger.day.unique()), passenger.shape[0]) )"
   ]
  },
  {
   "cell_type": "code",
   "execution_count": 156,
   "metadata": {},
   "outputs": [
    {
     "data": {
      "text/html": [
       "<div>\n",
       "<style>\n",
       "    .dataframe thead tr:only-child th {\n",
       "        text-align: right;\n",
       "    }\n",
       "\n",
       "    .dataframe thead th {\n",
       "        text-align: left;\n",
       "    }\n",
       "\n",
       "    .dataframe tbody tr th {\n",
       "        vertical-align: top;\n",
       "    }\n",
       "</style>\n",
       "<table border=\"1\" class=\"dataframe\">\n",
       "  <thead>\n",
       "    <tr style=\"text-align: right;\">\n",
       "      <th></th>\n",
       "      <th>count</th>\n",
       "    </tr>\n",
       "    <tr>\n",
       "      <th>내리는역</th>\n",
       "      <th></th>\n",
       "    </tr>\n",
       "  </thead>\n",
       "  <tbody>\n",
       "    <tr>\n",
       "      <th>강남역</th>\n",
       "      <td>0.779503</td>\n",
       "    </tr>\n",
       "    <tr>\n",
       "      <th>판교/정자역</th>\n",
       "      <td>0.220497</td>\n",
       "    </tr>\n",
       "  </tbody>\n",
       "</table>\n",
       "</div>"
      ],
      "text/plain": [
       "           count\n",
       "내리는역            \n",
       "강남역     0.779503\n",
       "판교/정자역  0.220497"
      ]
     },
     "execution_count": 156,
     "metadata": {},
     "output_type": "execute_result"
    }
   ],
   "source": [
    "passenger.groupby('내리는역').count()[['count']]/322"
   ]
  },
  {
   "cell_type": "code",
   "execution_count": 164,
   "metadata": {},
   "outputs": [
    {
     "data": {
      "image/png": "[encoded data removed]",
      "text/plain": [
       "<matplotlib.figure.Figure at 0x29cf01a5630>"
      ]
     },
     "metadata": {},
     "output_type": "display_data"
    }
   ],
   "source": [
    "(plot_rows, plot_cols) = (2, 3)\n",
    "size = 5\n",
    "\n",
    "f, axes = plt.subplots(plot_rows, plot_cols, figsize=(plot_cols*size,plot_rows*size))\n",
    "axes = np.concatenate(axes)\n",
    "\n",
    "for (ax, col) in zip(axes,['성별', '연령대', '행동', '복장', '이어폰여부', '내리는역']):\n",
    "    grouped = passenger.groupby(col).count()[['count']]\n",
    "    grouped.plot(kind='pie', y='count', subplots=False, autopct='%1.1f%%', ax=ax, legend=False\n",
    "                    , shadow=True, startangle=90,)\n",
    "    ax.set_xlabel(\"[\"+col+\"]\")\n",
    "    ax.set_ylabel('')"
   ]
  },
  {
   "cell_type": "code",
   "execution_count": 165,
   "metadata": {},
   "outputs": [],
   "source": [
    "def drawCommonPassenger(ds, topn=10, color=None):\n",
    "    ds.groupby(['복장', '행동', '나이','성별'], as_index=True)\\\n",
    "                .agg({'count':len})\\\n",
    "                .sort_values('count', ascending=False)[:topn]\\\n",
    "                .sort_values('count', ascending=True)\\\n",
    "                .plot(kind='barh', color=color, figsize=(6,int(topn/1.5)), title='가장 흔한 승객 유형 Top %d 보는 유형'  % topn )\n",
    "    plt.ylabel(\"\")"
   ]
  },
  {
   "cell_type": "code",
   "execution_count": 166,
   "metadata": {},
   "outputs": [
    {
     "data": {
      "image/png": "[encoded data removed]",
      "text/plain": [
       "<matplotlib.figure.Figure at 0x29cf0504550>"
      ]
     },
     "metadata": {},
     "output_type": "display_data"
    }
   ],
   "source": [
    "drawCommonPassenger(passenger, topn=10)"
   ]
  },
  {
   "cell_type": "code",
   "execution_count": 168,
   "metadata": {},
   "outputs": [
    {
     "data": {
      "image/png": "[encoded data removed]",
      "text/plain": [
       "<matplotlib.figure.Figure at 0x29cf07b59e8>"
      ]
     },
     "metadata": {},
     "output_type": "display_data"
    }
   ],
   "source": [
    "drawCommonPassenger(passenger[passenger[\"내리는역\"]=='판교/정자역'], color='b')"
   ]
  },
  {
   "cell_type": "code",
   "execution_count": 169,
   "metadata": {},
   "outputs": [
    {
     "data": {
      "image/png": "[encoded data removed]",
      "text/plain": [
       "<matplotlib.figure.Figure at 0x29cf020d8d0>"
      ]
     },
     "metadata": {},
     "output_type": "display_data"
    }
   ],
   "source": [
    "drawCommonPassenger(passenger[passenger[\"내리는역\"]=='강남역'], color='g')"
   ]
  },
  {
   "cell_type": "code",
   "execution_count": 170,
   "metadata": {},
   "outputs": [],
   "source": [
    "def drawCompareFeature(ds, feature1, feature2, title=\"\", color=None):\n",
    "    grouped_ds = ds.groupby([feature1, feature2], as_index=False)[['count']]\\\n",
    "            .count()\\\n",
    "            .pivot_table(index=feature2, columns=feature1, values='count', fill_value=0)\\\n",
    "    \n",
    "    fig1, (ax1, ax2) = plt.subplots(ncols=2,  figsize=(15,5))\n",
    "    grouped_ds.plot(kind='bar', stacked=True,alpha=1, ax=ax1, color=color)\n",
    "    ((grouped_ds.T/grouped_ds.sum(axis=1)).T).plot(kind='bar', stacked=True,alpha=1, ax=ax2, color=color)\n",
    "    plt.tight_layout(pad=1.1)\n",
    "    #return grouped_ds"
   ]
  },
  {
   "cell_type": "code",
   "execution_count": 171,
   "metadata": {},
   "outputs": [
    {
     "data": {
      "image/png": "[encoded data removed]",
      "text/plain": [
       "<matplotlib.figure.Figure at 0x29cf0ea8da0>"
      ]
     },
     "metadata": {},
     "output_type": "display_data"
    }
   ],
   "source": [
    "drawCompareFeature(passenger, '성별', '행동', \"성별에 따른 행동비교\")"
   ]
  },
  {
   "cell_type": "code",
   "execution_count": 175,
   "metadata": {},
   "outputs": [
    {
     "data": {
      "image/png": "[encoded data removed]",
      "text/plain": [
       "<matplotlib.figure.Figure at 0x29cf0f4c6a0>"
      ]
     },
     "metadata": {},
     "output_type": "display_data"
    }
   ],
   "source": [
    "drawCompareFeature(passenger, '성별', '나이', \"성별에 따른 나이분포\")"
   ]
  },
  {
   "cell_type": "code",
   "execution_count": 177,
   "metadata": {},
   "outputs": [
    {
     "data": {
      "image/png": "[encoded data removed]",
      "text/plain": [
       "<matplotlib.figure.Figure at 0x29cf0149cf8>"
      ]
     },
     "metadata": {},
     "output_type": "display_data"
    }
   ],
   "source": [
    "drawCompareFeature(passenger, '성별', '복장', \"성별에 따른 복장비교\")"
   ]
  },
  {
   "cell_type": "code",
   "execution_count": 179,
   "metadata": {},
   "outputs": [
    {
     "data": {
      "image/png": "[encoded data removed]",
      "text/plain": [
       "<matplotlib.figure.Figure at 0x29cefb7ce80>"
      ]
     },
     "metadata": {},
     "output_type": "display_data"
    }
   ],
   "source": [
    "drawCompareFeature(passenger, '행동', '나이', \"나이에 따른 행동비교\")"
   ]
  },
  {
   "cell_type": "markdown",
   "metadata": {},
   "source": [
    "### Encoding\n",
    "    \n",
    "* label encoding(integer encoding)\n",
    "* one hot encoding(binary encoding)"
   ]
  },
  {
   "cell_type": "code",
   "execution_count": 281,
   "metadata": {},
   "outputs": [],
   "source": [
    "from sklearn.preprocessing import LabelEncoder, OneHotEncoder\n",
    "from collections import defaultdict\n",
    "\n",
    "passenger.rename(columns={'하차여부':'내리는역'}, inplace=True)"
   ]
  },
  {
   "cell_type": "code",
   "execution_count": 282,
   "metadata": {},
   "outputs": [
    {
     "data": {
      "text/html": [
       "<div>\n",
       "<style>\n",
       "    .dataframe thead tr:only-child th {\n",
       "        text-align: right;\n",
       "    }\n",
       "\n",
       "    .dataframe thead th {\n",
       "        text-align: left;\n",
       "    }\n",
       "\n",
       "    .dataframe tbody tr th {\n",
       "        vertical-align: top;\n",
       "    }\n",
       "</style>\n",
       "<table border=\"1\" class=\"dataframe\">\n",
       "  <thead>\n",
       "    <tr style=\"text-align: right;\">\n",
       "      <th></th>\n",
       "      <th>내리는역</th>\n",
       "      <th>성별</th>\n",
       "      <th>연령대</th>\n",
       "      <th>행동</th>\n",
       "      <th>이어폰여부</th>\n",
       "      <th>좌석위치</th>\n",
       "    </tr>\n",
       "  </thead>\n",
       "  <tbody>\n",
       "    <tr>\n",
       "      <th>0</th>\n",
       "      <td>강남역</td>\n",
       "      <td>여자</td>\n",
       "      <td>중년</td>\n",
       "      <td>핸드폰보기</td>\n",
       "      <td>이어폰:X</td>\n",
       "      <td>좌측:사이드</td>\n",
       "    </tr>\n",
       "    <tr>\n",
       "      <th>1</th>\n",
       "      <td>강남역</td>\n",
       "      <td>남자</td>\n",
       "      <td>중년</td>\n",
       "      <td>핸드폰보기</td>\n",
       "      <td>이어폰:X</td>\n",
       "      <td>좌측:사이드</td>\n",
       "    </tr>\n",
       "    <tr>\n",
       "      <th>2</th>\n",
       "      <td>강남역</td>\n",
       "      <td>남자</td>\n",
       "      <td>중년</td>\n",
       "      <td>잠자는중</td>\n",
       "      <td>이어폰:O</td>\n",
       "      <td>중앙</td>\n",
       "    </tr>\n",
       "  </tbody>\n",
       "</table>\n",
       "</div>"
      ],
      "text/plain": [
       "  내리는역  성별 연령대     행동  이어폰여부    좌석위치\n",
       "0  강남역  여자  중년  핸드폰보기  이어폰:X  좌측:사이드\n",
       "1  강남역  남자  중년  핸드폰보기  이어폰:X  좌측:사이드\n",
       "2  강남역  남자  중년   잠자는중  이어폰:O      중앙"
      ]
     },
     "execution_count": 282,
     "metadata": {},
     "output_type": "execute_result"
    }
   ],
   "source": [
    "lb = passenger['내리는역 성별 연령대 행동 이어폰여부 좌석위치'.split()]\n",
    "\n",
    "lb.head(3)"
   ]
  },
  {
   "cell_type": "code",
   "execution_count": 300,
   "metadata": {},
   "outputs": [],
   "source": [
    "# label encoding \n",
    "le_enc_dict = defaultdict(LabelEncoder)\n",
    "\n",
    "le_passenger = passenger.apply(lambda x:le_enc_dict[x.name].fit_transform(x))\n",
    "\n",
    "le_passenger = le_passenger['내리는역 성별 연령대 행동 이어폰여부 좌석위치'.split()]\n",
    "\n",
    "le_passenger.to_csv('label.csv',index=None)"
   ]
  },
  {
   "cell_type": "code",
   "execution_count": 301,
   "metadata": {},
   "outputs": [
    {
     "data": {
      "text/html": [
       "<div>\n",
       "<style>\n",
       "    .dataframe thead tr:only-child th {\n",
       "        text-align: right;\n",
       "    }\n",
       "\n",
       "    .dataframe thead th {\n",
       "        text-align: left;\n",
       "    }\n",
       "\n",
       "    .dataframe tbody tr th {\n",
       "        vertical-align: top;\n",
       "    }\n",
       "</style>\n",
       "<table border=\"1\" class=\"dataframe\">\n",
       "  <thead>\n",
       "    <tr style=\"text-align: right;\">\n",
       "      <th></th>\n",
       "      <th>내리는역</th>\n",
       "      <th>성별</th>\n",
       "      <th>연령대</th>\n",
       "      <th>행동</th>\n",
       "      <th>이어폰여부</th>\n",
       "      <th>좌석위치</th>\n",
       "    </tr>\n",
       "  </thead>\n",
       "  <tbody>\n",
       "    <tr>\n",
       "      <th>0</th>\n",
       "      <td>0</td>\n",
       "      <td>1</td>\n",
       "      <td>1</td>\n",
       "      <td>5</td>\n",
       "      <td>1</td>\n",
       "      <td>1</td>\n",
       "    </tr>\n",
       "    <tr>\n",
       "      <th>1</th>\n",
       "      <td>0</td>\n",
       "      <td>0</td>\n",
       "      <td>1</td>\n",
       "      <td>5</td>\n",
       "      <td>1</td>\n",
       "      <td>1</td>\n",
       "    </tr>\n",
       "    <tr>\n",
       "      <th>2</th>\n",
       "      <td>0</td>\n",
       "      <td>0</td>\n",
       "      <td>1</td>\n",
       "      <td>2</td>\n",
       "      <td>0</td>\n",
       "      <td>2</td>\n",
       "    </tr>\n",
       "    <tr>\n",
       "      <th>3</th>\n",
       "      <td>0</td>\n",
       "      <td>0</td>\n",
       "      <td>1</td>\n",
       "      <td>5</td>\n",
       "      <td>0</td>\n",
       "      <td>2</td>\n",
       "    </tr>\n",
       "    <tr>\n",
       "      <th>4</th>\n",
       "      <td>1</td>\n",
       "      <td>1</td>\n",
       "      <td>1</td>\n",
       "      <td>0</td>\n",
       "      <td>0</td>\n",
       "      <td>2</td>\n",
       "    </tr>\n",
       "  </tbody>\n",
       "</table>\n",
       "</div>"
      ],
      "text/plain": [
       "   내리는역  성별  연령대  행동  이어폰여부  좌석위치\n",
       "0     0   1    1   5      1     1\n",
       "1     0   0    1   5      1     1\n",
       "2     0   0    1   2      0     2\n",
       "3     0   0    1   5      0     2\n",
       "4     1   1    1   0      0     2"
      ]
     },
     "execution_count": 301,
     "metadata": {},
     "output_type": "execute_result"
    }
   ],
   "source": [
    "le_passenger.head()"
   ]
  },
  {
   "cell_type": "code",
   "execution_count": 302,
   "metadata": {
    "collapsed": true
   },
   "outputs": [
    {
     "ename": "ValueError",
     "evalue": "Shape of passed values is (18, 322), indices imply (1986, 322)",
     "output_type": "error",
     "traceback": [
      "\u001b[1;31m---------------------------------------------------------------------------\u001b[0m",
      "\u001b[1;31mValueError\u001b[0m                                Traceback (most recent call last)",
      "\u001b[1;32m~\\Anaconda3\\lib\\site-packages\\pandas\\core\\internals.py\u001b[0m in \u001b[0;36mcreate_block_manager_from_blocks\u001b[1;34m(blocks, axes)\u001b[0m\n\u001b[0;32m   4293\u001b[0m                 blocks = [make_block(values=blocks[0],\n\u001b[1;32m-> 4294\u001b[1;33m                                      placement=slice(0, len(axes[0])))]\n\u001b[0m\u001b[0;32m   4295\u001b[0m \u001b[1;33m\u001b[0m\u001b[0m\n",
      "\u001b[1;32m~\\Anaconda3\\lib\\site-packages\\pandas\\core\\internals.py\u001b[0m in \u001b[0;36mmake_block\u001b[1;34m(values, placement, klass, ndim, dtype, fastpath)\u001b[0m\n\u001b[0;32m   2718\u001b[0m \u001b[1;33m\u001b[0m\u001b[0m\n\u001b[1;32m-> 2719\u001b[1;33m     \u001b[1;32mreturn\u001b[0m \u001b[0mklass\u001b[0m\u001b[1;33m(\u001b[0m\u001b[0mvalues\u001b[0m\u001b[1;33m,\u001b[0m \u001b[0mndim\u001b[0m\u001b[1;33m=\u001b[0m\u001b[0mndim\u001b[0m\u001b[1;33m,\u001b[0m \u001b[0mfastpath\u001b[0m\u001b[1;33m=\u001b[0m\u001b[0mfastpath\u001b[0m\u001b[1;33m,\u001b[0m \u001b[0mplacement\u001b[0m\u001b[1;33m=\u001b[0m\u001b[0mplacement\u001b[0m\u001b[1;33m)\u001b[0m\u001b[1;33m\u001b[0m\u001b[0m\n\u001b[0m\u001b[0;32m   2720\u001b[0m \u001b[1;33m\u001b[0m\u001b[0m\n",
      "\u001b[1;32m~\\Anaconda3\\lib\\site-packages\\pandas\\core\\internals.py\u001b[0m in \u001b[0;36m__init__\u001b[1;34m(self, values, placement, ndim, fastpath)\u001b[0m\n\u001b[0;32m    114\u001b[0m                              'implies %d' % (len(self.values),\n\u001b[1;32m--> 115\u001b[1;33m                                              len(self.mgr_locs)))\n\u001b[0m\u001b[0;32m    116\u001b[0m \u001b[1;33m\u001b[0m\u001b[0m\n",
      "\u001b[1;31mValueError\u001b[0m: Wrong number of items passed 18, placement implies 1986",
      "\nDuring handling of the above exception, another exception occurred:\n",
      "\u001b[1;31mValueError\u001b[0m                                Traceback (most recent call last)",
      "\u001b[1;32m<ipython-input-302-eb174a98e731>\u001b[0m in \u001b[0;36m<module>\u001b[1;34m()\u001b[0m\n\u001b[0;32m      5\u001b[0m     \u001b[0mohe_header\u001b[0m\u001b[1;33m.\u001b[0m\u001b[0mextend\u001b[0m\u001b[1;33m(\u001b[0m\u001b[0mle_enc_dict\u001b[0m\u001b[1;33m[\u001b[0m\u001b[0mcol\u001b[0m\u001b[1;33m]\u001b[0m\u001b[1;33m.\u001b[0m\u001b[0mclasses_\u001b[0m \u001b[1;33m)\u001b[0m\u001b[1;33m\u001b[0m\u001b[0m\n\u001b[0;32m      6\u001b[0m \u001b[1;33m\u001b[0m\u001b[0m\n\u001b[1;32m----> 7\u001b[1;33m \u001b[0mohe_passenger\u001b[0m \u001b[1;33m=\u001b[0m \u001b[0mpd\u001b[0m\u001b[1;33m.\u001b[0m\u001b[0mDataFrame\u001b[0m\u001b[1;33m(\u001b[0m\u001b[0mohe_passenger_array\u001b[0m\u001b[1;33m,\u001b[0m \u001b[0mcolumns\u001b[0m\u001b[1;33m=\u001b[0m\u001b[0mohe_header\u001b[0m\u001b[1;33m)\u001b[0m\u001b[1;33m\u001b[0m\u001b[0m\n\u001b[0m\u001b[0;32m      8\u001b[0m \u001b[0mohe_passenger\u001b[0m \u001b[1;33m=\u001b[0m \u001b[0mohe_passenger\u001b[0m\u001b[1;33m.\u001b[0m\u001b[0mapplymap\u001b[0m\u001b[1;33m(\u001b[0m\u001b[0mint\u001b[0m\u001b[1;33m)\u001b[0m\u001b[1;33m\u001b[0m\u001b[0m\n",
      "\u001b[1;32m~\\Anaconda3\\lib\\site-packages\\pandas\\core\\frame.py\u001b[0m in \u001b[0;36m__init__\u001b[1;34m(self, data, index, columns, dtype, copy)\u001b[0m\n\u001b[0;32m    304\u001b[0m             \u001b[1;32melse\u001b[0m\u001b[1;33m:\u001b[0m\u001b[1;33m\u001b[0m\u001b[0m\n\u001b[0;32m    305\u001b[0m                 mgr = self._init_ndarray(data, index, columns, dtype=dtype,\n\u001b[1;32m--> 306\u001b[1;33m                                          copy=copy)\n\u001b[0m\u001b[0;32m    307\u001b[0m         \u001b[1;32melif\u001b[0m \u001b[0misinstance\u001b[0m\u001b[1;33m(\u001b[0m\u001b[0mdata\u001b[0m\u001b[1;33m,\u001b[0m \u001b[1;33m(\u001b[0m\u001b[0mlist\u001b[0m\u001b[1;33m,\u001b[0m \u001b[0mtypes\u001b[0m\u001b[1;33m.\u001b[0m\u001b[0mGeneratorType\u001b[0m\u001b[1;33m)\u001b[0m\u001b[1;33m)\u001b[0m\u001b[1;33m:\u001b[0m\u001b[1;33m\u001b[0m\u001b[0m\n\u001b[0;32m    308\u001b[0m             \u001b[1;32mif\u001b[0m \u001b[0misinstance\u001b[0m\u001b[1;33m(\u001b[0m\u001b[0mdata\u001b[0m\u001b[1;33m,\u001b[0m \u001b[0mtypes\u001b[0m\u001b[1;33m.\u001b[0m\u001b[0mGeneratorType\u001b[0m\u001b[1;33m)\u001b[0m\u001b[1;33m:\u001b[0m\u001b[1;33m\u001b[0m\u001b[0m\n",
      "\u001b[1;32m~\\Anaconda3\\lib\\site-packages\\pandas\\core\\frame.py\u001b[0m in \u001b[0;36m_init_ndarray\u001b[1;34m(self, values, index, columns, dtype, copy)\u001b[0m\n\u001b[0;32m    481\u001b[0m             \u001b[0mvalues\u001b[0m \u001b[1;33m=\u001b[0m \u001b[0mmaybe_infer_to_datetimelike\u001b[0m\u001b[1;33m(\u001b[0m\u001b[0mvalues\u001b[0m\u001b[1;33m)\u001b[0m\u001b[1;33m\u001b[0m\u001b[0m\n\u001b[0;32m    482\u001b[0m \u001b[1;33m\u001b[0m\u001b[0m\n\u001b[1;32m--> 483\u001b[1;33m         \u001b[1;32mreturn\u001b[0m \u001b[0mcreate_block_manager_from_blocks\u001b[0m\u001b[1;33m(\u001b[0m\u001b[1;33m[\u001b[0m\u001b[0mvalues\u001b[0m\u001b[1;33m]\u001b[0m\u001b[1;33m,\u001b[0m \u001b[1;33m[\u001b[0m\u001b[0mcolumns\u001b[0m\u001b[1;33m,\u001b[0m \u001b[0mindex\u001b[0m\u001b[1;33m]\u001b[0m\u001b[1;33m)\u001b[0m\u001b[1;33m\u001b[0m\u001b[0m\n\u001b[0m\u001b[0;32m    484\u001b[0m \u001b[1;33m\u001b[0m\u001b[0m\n\u001b[0;32m    485\u001b[0m     \u001b[1;33m@\u001b[0m\u001b[0mproperty\u001b[0m\u001b[1;33m\u001b[0m\u001b[0m\n",
      "\u001b[1;32m~\\Anaconda3\\lib\\site-packages\\pandas\\core\\internals.py\u001b[0m in \u001b[0;36mcreate_block_manager_from_blocks\u001b[1;34m(blocks, axes)\u001b[0m\n\u001b[0;32m   4301\u001b[0m         \u001b[0mblocks\u001b[0m \u001b[1;33m=\u001b[0m \u001b[1;33m[\u001b[0m\u001b[0mgetattr\u001b[0m\u001b[1;33m(\u001b[0m\u001b[0mb\u001b[0m\u001b[1;33m,\u001b[0m \u001b[1;34m'values'\u001b[0m\u001b[1;33m,\u001b[0m \u001b[0mb\u001b[0m\u001b[1;33m)\u001b[0m \u001b[1;32mfor\u001b[0m \u001b[0mb\u001b[0m \u001b[1;32min\u001b[0m \u001b[0mblocks\u001b[0m\u001b[1;33m]\u001b[0m\u001b[1;33m\u001b[0m\u001b[0m\n\u001b[0;32m   4302\u001b[0m         \u001b[0mtot_items\u001b[0m \u001b[1;33m=\u001b[0m \u001b[0msum\u001b[0m\u001b[1;33m(\u001b[0m\u001b[0mb\u001b[0m\u001b[1;33m.\u001b[0m\u001b[0mshape\u001b[0m\u001b[1;33m[\u001b[0m\u001b[1;36m0\u001b[0m\u001b[1;33m]\u001b[0m \u001b[1;32mfor\u001b[0m \u001b[0mb\u001b[0m \u001b[1;32min\u001b[0m \u001b[0mblocks\u001b[0m\u001b[1;33m)\u001b[0m\u001b[1;33m\u001b[0m\u001b[0m\n\u001b[1;32m-> 4303\u001b[1;33m         \u001b[0mconstruction_error\u001b[0m\u001b[1;33m(\u001b[0m\u001b[0mtot_items\u001b[0m\u001b[1;33m,\u001b[0m \u001b[0mblocks\u001b[0m\u001b[1;33m[\u001b[0m\u001b[1;36m0\u001b[0m\u001b[1;33m]\u001b[0m\u001b[1;33m.\u001b[0m\u001b[0mshape\u001b[0m\u001b[1;33m[\u001b[0m\u001b[1;36m1\u001b[0m\u001b[1;33m:\u001b[0m\u001b[1;33m]\u001b[0m\u001b[1;33m,\u001b[0m \u001b[0maxes\u001b[0m\u001b[1;33m,\u001b[0m \u001b[0me\u001b[0m\u001b[1;33m)\u001b[0m\u001b[1;33m\u001b[0m\u001b[0m\n\u001b[0m\u001b[0;32m   4304\u001b[0m \u001b[1;33m\u001b[0m\u001b[0m\n\u001b[0;32m   4305\u001b[0m \u001b[1;33m\u001b[0m\u001b[0m\n",
      "\u001b[1;32m~\\Anaconda3\\lib\\site-packages\\pandas\\core\\internals.py\u001b[0m in \u001b[0;36mconstruction_error\u001b[1;34m(tot_items, block_shape, axes, e)\u001b[0m\n\u001b[0;32m   4278\u001b[0m         \u001b[1;32mraise\u001b[0m \u001b[0mValueError\u001b[0m\u001b[1;33m(\u001b[0m\u001b[1;34m\"Empty data passed with indices specified.\"\u001b[0m\u001b[1;33m)\u001b[0m\u001b[1;33m\u001b[0m\u001b[0m\n\u001b[0;32m   4279\u001b[0m     raise ValueError(\"Shape of passed values is {0}, indices imply {1}\".format(\n\u001b[1;32m-> 4280\u001b[1;33m         passed, implied))\n\u001b[0m\u001b[0;32m   4281\u001b[0m \u001b[1;33m\u001b[0m\u001b[0m\n\u001b[0;32m   4282\u001b[0m \u001b[1;33m\u001b[0m\u001b[0m\n",
      "\u001b[1;31mValueError\u001b[0m: Shape of passed values is (18, 322), indices imply (1986, 322)"
     ]
    }
   ],
   "source": [
    "ohe_enc = OneHotEncoder()\n",
    "ohe_passenger_array = ohe_enc.fit_transform(le_passenger).toarray()\n",
    "\n",
    "for col in le_passenger.columns:\n",
    "    ohe_header.extend(le_enc_dict[col].classes_ )\n",
    "\n",
    "ohe_passenger = pd.DataFrame(ohe_passenger_array, columns=ohe_header)\n",
    "ohe_passenger = ohe_passenger.applymap(int)\n"
   ]
  },
  {
   "cell_type": "code",
   "execution_count": 296,
   "metadata": {},
   "outputs": [
    {
     "ename": "AttributeError",
     "evalue": "'numpy.ndarray' object has no attribute 'corr'",
     "output_type": "error",
     "traceback": [
      "\u001b[1;31m---------------------------------------------------------------------------\u001b[0m",
      "\u001b[1;31mAttributeError\u001b[0m                            Traceback (most recent call last)",
      "\u001b[1;32m<ipython-input-296-b23f824f6198>\u001b[0m in \u001b[0;36m<module>\u001b[1;34m()\u001b[0m\n\u001b[0;32m      1\u001b[0m \u001b[1;31m#Correlation Matrix\u001b[0m\u001b[1;33m\u001b[0m\u001b[1;33m\u001b[0m\u001b[0m\n\u001b[1;32m----> 2\u001b[1;33m \u001b[0mcorr\u001b[0m \u001b[1;33m=\u001b[0m \u001b[0mohe_passenger\u001b[0m\u001b[1;33m.\u001b[0m\u001b[0mcorr\u001b[0m\u001b[1;33m(\u001b[0m\u001b[1;33m)\u001b[0m\u001b[1;33m\u001b[0m\u001b[0m\n\u001b[0m\u001b[0;32m      3\u001b[0m \u001b[0mcorr\u001b[0m \u001b[1;33m=\u001b[0m \u001b[0mcorr\u001b[0m\u001b[1;33m.\u001b[0m\u001b[0mapplymap\u001b[0m\u001b[1;33m(\u001b[0m\u001b[1;32mlambda\u001b[0m \u001b[0mx\u001b[0m\u001b[1;33m:\u001b[0m \u001b[0mround\u001b[0m\u001b[1;33m(\u001b[0m\u001b[0mx\u001b[0m\u001b[1;33m,\u001b[0m\u001b[1;36m3\u001b[0m\u001b[1;33m)\u001b[0m\u001b[1;33m)\u001b[0m\u001b[1;33m\u001b[0m\u001b[0m\n\u001b[0;32m      4\u001b[0m \u001b[1;33m\u001b[0m\u001b[0m\n\u001b[0;32m      5\u001b[0m \u001b[0msns\u001b[0m\u001b[1;33m.\u001b[0m\u001b[0mset\u001b[0m\u001b[1;33m(\u001b[0m\u001b[0mstyle\u001b[0m\u001b[1;33m=\u001b[0m\u001b[1;34m\"whitegrid\"\u001b[0m\u001b[1;33m,\u001b[0m \u001b[0mrc\u001b[0m\u001b[1;33m=\u001b[0m\u001b[1;33m{\u001b[0m\u001b[1;34m'font.family'\u001b[0m\u001b[1;33m:\u001b[0m\u001b[1;34m'AppleGothic'\u001b[0m\u001b[1;33m}\u001b[0m\u001b[1;33m,\u001b[0m \u001b[0mfont_scale\u001b[0m\u001b[1;33m=\u001b[0m\u001b[1;36m1.1\u001b[0m\u001b[1;33m)\u001b[0m\u001b[1;33m\u001b[0m\u001b[0m\n",
      "\u001b[1;31mAttributeError\u001b[0m: 'numpy.ndarray' object has no attribute 'corr'"
     ]
    }
   ],
   "source": [
    "#Correlation Matrix\n",
    "corr = ohe_passenger.corr()\n",
    "corr = corr.applymap(lambda x: round(x,3))\n",
    "\n",
    "sns.set(style=\"whitegrid\", rc={'font.family':'AppleGothic'}, font_scale=1.1)\n",
    "plt.figure(figsize=(17,12))\n",
    "sns.heatmap(corr, annot=True, fmt='.2f', cmap='RdBu_r', vmax=.3, vmin=-.3)\n",
    "plt.title('Heatmap of Correlation Matrix')\n",
    "\n",
    "corr"
   ]
  },
  {
   "cell_type": "code",
   "execution_count": 303,
   "metadata": {},
   "outputs": [],
   "source": [
    "import pandas as pd    \n",
    "import matplotlib.pyplot as plt\n",
    "import seaborn as sns\n",
    "import numpy as np\n",
    "import operator\n",
    "\n",
    "sns.set(style=\"whitegrid\", rc={'font.family':'AppleGothic', 'figure.figsize': (12, 5)}, font_scale=1.6)\n",
    "pal = sns.color_palette(\"Set1\", n_colors=9, desat=.6)\n",
    "\n",
    "\n",
    "%matplotlib inline"
   ]
  },
  {
   "cell_type": "code",
   "execution_count": 305,
   "metadata": {},
   "outputs": [
    {
     "data": {
      "text/html": [
       "<div>\n",
       "<style>\n",
       "    .dataframe thead tr:only-child th {\n",
       "        text-align: right;\n",
       "    }\n",
       "\n",
       "    .dataframe thead th {\n",
       "        text-align: left;\n",
       "    }\n",
       "\n",
       "    .dataframe tbody tr th {\n",
       "        vertical-align: top;\n",
       "    }\n",
       "</style>\n",
       "<table border=\"1\" class=\"dataframe\">\n",
       "  <thead>\n",
       "    <tr style=\"text-align: right;\">\n",
       "      <th></th>\n",
       "      <th>day</th>\n",
       "      <th>hour</th>\n",
       "      <th>seat_loc</th>\n",
       "      <th>성별</th>\n",
       "      <th>나이</th>\n",
       "      <th>행동</th>\n",
       "      <th>복장</th>\n",
       "      <th>이어폰여부</th>\n",
       "      <th>내리는역</th>\n",
       "      <th>좌석위치</th>\n",
       "      <th>연령대</th>\n",
       "      <th>count</th>\n",
       "    </tr>\n",
       "  </thead>\n",
       "  <tbody>\n",
       "    <tr>\n",
       "      <th>0</th>\n",
       "      <td>2017-07-13</td>\n",
       "      <td>07:30</td>\n",
       "      <td>0번 좌석</td>\n",
       "      <td>여자</td>\n",
       "      <td>30</td>\n",
       "      <td>핸드폰보기</td>\n",
       "      <td>정장</td>\n",
       "      <td>이어폰:X</td>\n",
       "      <td>강남역</td>\n",
       "      <td>좌측:사이드</td>\n",
       "      <td>중년</td>\n",
       "      <td>1</td>\n",
       "    </tr>\n",
       "    <tr>\n",
       "      <th>1</th>\n",
       "      <td>2017-07-13</td>\n",
       "      <td>07:30</td>\n",
       "      <td>1번 좌석</td>\n",
       "      <td>남자</td>\n",
       "      <td>40</td>\n",
       "      <td>핸드폰보기</td>\n",
       "      <td>정장</td>\n",
       "      <td>이어폰:X</td>\n",
       "      <td>강남역</td>\n",
       "      <td>좌측:사이드</td>\n",
       "      <td>중년</td>\n",
       "      <td>1</td>\n",
       "    </tr>\n",
       "    <tr>\n",
       "      <th>2</th>\n",
       "      <td>2017-07-13</td>\n",
       "      <td>07:30</td>\n",
       "      <td>2번 좌석</td>\n",
       "      <td>남자</td>\n",
       "      <td>30</td>\n",
       "      <td>잠자는중</td>\n",
       "      <td>정장</td>\n",
       "      <td>이어폰:O</td>\n",
       "      <td>강남역</td>\n",
       "      <td>중앙</td>\n",
       "      <td>중년</td>\n",
       "      <td>1</td>\n",
       "    </tr>\n",
       "    <tr>\n",
       "      <th>3</th>\n",
       "      <td>2017-07-13</td>\n",
       "      <td>07:30</td>\n",
       "      <td>3번 좌석</td>\n",
       "      <td>남자</td>\n",
       "      <td>30</td>\n",
       "      <td>핸드폰보기</td>\n",
       "      <td>세미정장</td>\n",
       "      <td>이어폰:O</td>\n",
       "      <td>강남역</td>\n",
       "      <td>중앙</td>\n",
       "      <td>중년</td>\n",
       "      <td>1</td>\n",
       "    </tr>\n",
       "    <tr>\n",
       "      <th>4</th>\n",
       "      <td>2017-07-13</td>\n",
       "      <td>07:30</td>\n",
       "      <td>4번 좌석</td>\n",
       "      <td>여자</td>\n",
       "      <td>30</td>\n",
       "      <td>노트북</td>\n",
       "      <td>세미정장</td>\n",
       "      <td>이어폰:O</td>\n",
       "      <td>판교/정자역</td>\n",
       "      <td>중앙</td>\n",
       "      <td>중년</td>\n",
       "      <td>1</td>\n",
       "    </tr>\n",
       "    <tr>\n",
       "      <th>5</th>\n",
       "      <td>2017-07-13</td>\n",
       "      <td>07:30</td>\n",
       "      <td>5번 좌석</td>\n",
       "      <td>여자</td>\n",
       "      <td>50</td>\n",
       "      <td>핸드폰보기</td>\n",
       "      <td>평상복</td>\n",
       "      <td>이어폰:X</td>\n",
       "      <td>판교/정자역</td>\n",
       "      <td>우측:사이드</td>\n",
       "      <td>장년</td>\n",
       "      <td>1</td>\n",
       "    </tr>\n",
       "    <tr>\n",
       "      <th>6</th>\n",
       "      <td>2017-07-13</td>\n",
       "      <td>07:30</td>\n",
       "      <td>6번 좌석</td>\n",
       "      <td>남자</td>\n",
       "      <td>30</td>\n",
       "      <td>잠자는중</td>\n",
       "      <td>정장</td>\n",
       "      <td>이어폰:O</td>\n",
       "      <td>강남역</td>\n",
       "      <td>우측:사이드</td>\n",
       "      <td>중년</td>\n",
       "      <td>1</td>\n",
       "    </tr>\n",
       "    <tr>\n",
       "      <th>7</th>\n",
       "      <td>2017-07-14</td>\n",
       "      <td>08:25</td>\n",
       "      <td>0번 좌석</td>\n",
       "      <td>남자</td>\n",
       "      <td>30</td>\n",
       "      <td>핸드폰보기</td>\n",
       "      <td>정장</td>\n",
       "      <td>이어폰:X</td>\n",
       "      <td>강남역</td>\n",
       "      <td>좌측:사이드</td>\n",
       "      <td>중년</td>\n",
       "      <td>1</td>\n",
       "    </tr>\n",
       "    <tr>\n",
       "      <th>8</th>\n",
       "      <td>2017-07-14</td>\n",
       "      <td>08:25</td>\n",
       "      <td>1번 좌석</td>\n",
       "      <td>남자</td>\n",
       "      <td>40</td>\n",
       "      <td>핸드폰보기</td>\n",
       "      <td>세미정장</td>\n",
       "      <td>이어폰:O</td>\n",
       "      <td>판교/정자역</td>\n",
       "      <td>좌측:사이드</td>\n",
       "      <td>중년</td>\n",
       "      <td>1</td>\n",
       "    </tr>\n",
       "    <tr>\n",
       "      <th>9</th>\n",
       "      <td>2017-07-14</td>\n",
       "      <td>08:25</td>\n",
       "      <td>2번 좌석</td>\n",
       "      <td>남자</td>\n",
       "      <td>40</td>\n",
       "      <td>핸드폰보기</td>\n",
       "      <td>평상복</td>\n",
       "      <td>이어폰:X</td>\n",
       "      <td>판교/정자역</td>\n",
       "      <td>중앙</td>\n",
       "      <td>중년</td>\n",
       "      <td>1</td>\n",
       "    </tr>\n",
       "  </tbody>\n",
       "</table>\n",
       "</div>"
      ],
      "text/plain": [
       "          day   hour seat_loc  성별  나이     행동    복장  이어폰여부    내리는역    좌석위치 연령대  \\\n",
       "0  2017-07-13  07:30    0번 좌석  여자  30  핸드폰보기    정장  이어폰:X     강남역  좌측:사이드  중년   \n",
       "1  2017-07-13  07:30    1번 좌석  남자  40  핸드폰보기    정장  이어폰:X     강남역  좌측:사이드  중년   \n",
       "2  2017-07-13  07:30    2번 좌석  남자  30   잠자는중    정장  이어폰:O     강남역      중앙  중년   \n",
       "3  2017-07-13  07:30    3번 좌석  남자  30  핸드폰보기  세미정장  이어폰:O     강남역      중앙  중년   \n",
       "4  2017-07-13  07:30    4번 좌석  여자  30    노트북  세미정장  이어폰:O  판교/정자역      중앙  중년   \n",
       "5  2017-07-13  07:30    5번 좌석  여자  50  핸드폰보기   평상복  이어폰:X  판교/정자역  우측:사이드  장년   \n",
       "6  2017-07-13  07:30    6번 좌석  남자  30   잠자는중    정장  이어폰:O     강남역  우측:사이드  중년   \n",
       "7  2017-07-14  08:25    0번 좌석  남자  30  핸드폰보기    정장  이어폰:X     강남역  좌측:사이드  중년   \n",
       "8  2017-07-14  08:25    1번 좌석  남자  40  핸드폰보기  세미정장  이어폰:O  판교/정자역  좌측:사이드  중년   \n",
       "9  2017-07-14  08:25    2번 좌석  남자  40  핸드폰보기   평상복  이어폰:X  판교/정자역      중앙  중년   \n",
       "\n",
       "   count  \n",
       "0      1  \n",
       "1      1  \n",
       "2      1  \n",
       "3      1  \n",
       "4      1  \n",
       "5      1  \n",
       "6      1  \n",
       "7      1  \n",
       "8      1  \n",
       "9      1  "
      ]
     },
     "execution_count": 305,
     "metadata": {},
     "output_type": "execute_result"
    }
   ],
   "source": [
    "passenger.seat_loc = passenger.seat_loc.apply(lambda x: \"%d번 좌석\"%x)\n",
    "passenger.head(10)"
   ]
  },
  {
   "cell_type": "code",
   "execution_count": 306,
   "metadata": {},
   "outputs": [],
   "source": [
    "#입력값이 범주형 데이터이니 one hot encoding으로 바꾸고, 이것을 바탕으로 모델링하기\n",
    "\n",
    "target_name = '내리는역'\n",
    "# feature_cols = '행동 복장 좌석위치 내리는역'.split()\n",
    "feature_cols = '연령대 성별 행동 복장 seat_loc 이어폰여부 내리는역'.split()\n",
    "passenger = passenger[feature_cols]"
   ]
  },
  {
   "cell_type": "code",
   "execution_count": 307,
   "metadata": {
    "collapsed": true
   },
   "outputs": [
    {
     "data": {
      "text/html": [
       "<div>\n",
       "<style>\n",
       "    .dataframe thead tr:only-child th {\n",
       "        text-align: right;\n",
       "    }\n",
       "\n",
       "    .dataframe thead th {\n",
       "        text-align: left;\n",
       "    }\n",
       "\n",
       "    .dataframe tbody tr th {\n",
       "        vertical-align: top;\n",
       "    }\n",
       "</style>\n",
       "<table border=\"1\" class=\"dataframe\">\n",
       "  <thead>\n",
       "    <tr style=\"text-align: right;\">\n",
       "      <th></th>\n",
       "      <th>연령대</th>\n",
       "      <th>성별</th>\n",
       "      <th>행동</th>\n",
       "      <th>복장</th>\n",
       "      <th>seat_loc</th>\n",
       "      <th>이어폰여부</th>\n",
       "      <th>내리는역</th>\n",
       "    </tr>\n",
       "  </thead>\n",
       "  <tbody>\n",
       "    <tr>\n",
       "      <th>0</th>\n",
       "      <td>중년</td>\n",
       "      <td>여자</td>\n",
       "      <td>핸드폰보기</td>\n",
       "      <td>정장</td>\n",
       "      <td>0번 좌석</td>\n",
       "      <td>이어폰:X</td>\n",
       "      <td>강남역</td>\n",
       "    </tr>\n",
       "    <tr>\n",
       "      <th>1</th>\n",
       "      <td>중년</td>\n",
       "      <td>남자</td>\n",
       "      <td>핸드폰보기</td>\n",
       "      <td>정장</td>\n",
       "      <td>1번 좌석</td>\n",
       "      <td>이어폰:X</td>\n",
       "      <td>강남역</td>\n",
       "    </tr>\n",
       "    <tr>\n",
       "      <th>2</th>\n",
       "      <td>중년</td>\n",
       "      <td>남자</td>\n",
       "      <td>잠자는중</td>\n",
       "      <td>정장</td>\n",
       "      <td>2번 좌석</td>\n",
       "      <td>이어폰:O</td>\n",
       "      <td>강남역</td>\n",
       "    </tr>\n",
       "    <tr>\n",
       "      <th>3</th>\n",
       "      <td>중년</td>\n",
       "      <td>남자</td>\n",
       "      <td>핸드폰보기</td>\n",
       "      <td>세미정장</td>\n",
       "      <td>3번 좌석</td>\n",
       "      <td>이어폰:O</td>\n",
       "      <td>강남역</td>\n",
       "    </tr>\n",
       "    <tr>\n",
       "      <th>4</th>\n",
       "      <td>중년</td>\n",
       "      <td>여자</td>\n",
       "      <td>노트북</td>\n",
       "      <td>세미정장</td>\n",
       "      <td>4번 좌석</td>\n",
       "      <td>이어폰:O</td>\n",
       "      <td>판교/정자역</td>\n",
       "    </tr>\n",
       "    <tr>\n",
       "      <th>5</th>\n",
       "      <td>장년</td>\n",
       "      <td>여자</td>\n",
       "      <td>핸드폰보기</td>\n",
       "      <td>평상복</td>\n",
       "      <td>5번 좌석</td>\n",
       "      <td>이어폰:X</td>\n",
       "      <td>판교/정자역</td>\n",
       "    </tr>\n",
       "    <tr>\n",
       "      <th>6</th>\n",
       "      <td>중년</td>\n",
       "      <td>남자</td>\n",
       "      <td>잠자는중</td>\n",
       "      <td>정장</td>\n",
       "      <td>6번 좌석</td>\n",
       "      <td>이어폰:O</td>\n",
       "      <td>강남역</td>\n",
       "    </tr>\n",
       "    <tr>\n",
       "      <th>7</th>\n",
       "      <td>중년</td>\n",
       "      <td>남자</td>\n",
       "      <td>핸드폰보기</td>\n",
       "      <td>정장</td>\n",
       "      <td>0번 좌석</td>\n",
       "      <td>이어폰:X</td>\n",
       "      <td>강남역</td>\n",
       "    </tr>\n",
       "    <tr>\n",
       "      <th>8</th>\n",
       "      <td>중년</td>\n",
       "      <td>남자</td>\n",
       "      <td>핸드폰보기</td>\n",
       "      <td>세미정장</td>\n",
       "      <td>1번 좌석</td>\n",
       "      <td>이어폰:O</td>\n",
       "      <td>판교/정자역</td>\n",
       "    </tr>\n",
       "    <tr>\n",
       "      <th>9</th>\n",
       "      <td>중년</td>\n",
       "      <td>남자</td>\n",
       "      <td>핸드폰보기</td>\n",
       "      <td>평상복</td>\n",
       "      <td>2번 좌석</td>\n",
       "      <td>이어폰:X</td>\n",
       "      <td>판교/정자역</td>\n",
       "    </tr>\n",
       "    <tr>\n",
       "      <th>10</th>\n",
       "      <td>장년</td>\n",
       "      <td>여자</td>\n",
       "      <td>잠자는중</td>\n",
       "      <td>평상복</td>\n",
       "      <td>3번 좌석</td>\n",
       "      <td>이어폰:X</td>\n",
       "      <td>강남역</td>\n",
       "    </tr>\n",
       "    <tr>\n",
       "      <th>11</th>\n",
       "      <td>중년</td>\n",
       "      <td>남자</td>\n",
       "      <td>잠자는중</td>\n",
       "      <td>평상복</td>\n",
       "      <td>4번 좌석</td>\n",
       "      <td>이어폰:X</td>\n",
       "      <td>강남역</td>\n",
       "    </tr>\n",
       "    <tr>\n",
       "      <th>12</th>\n",
       "      <td>중년</td>\n",
       "      <td>여자</td>\n",
       "      <td>핸드폰보기</td>\n",
       "      <td>세미정장</td>\n",
       "      <td>5번 좌석</td>\n",
       "      <td>이어폰:O</td>\n",
       "      <td>강남역</td>\n",
       "    </tr>\n",
       "    <tr>\n",
       "      <th>13</th>\n",
       "      <td>중년</td>\n",
       "      <td>여자</td>\n",
       "      <td>핸드폰보기</td>\n",
       "      <td>평상복</td>\n",
       "      <td>6번 좌석</td>\n",
       "      <td>이어폰:X</td>\n",
       "      <td>강남역</td>\n",
       "    </tr>\n",
       "    <tr>\n",
       "      <th>14</th>\n",
       "      <td>청년</td>\n",
       "      <td>여자</td>\n",
       "      <td>핸드폰보기</td>\n",
       "      <td>평상복</td>\n",
       "      <td>0번 좌석</td>\n",
       "      <td>이어폰:O</td>\n",
       "      <td>판교/정자역</td>\n",
       "    </tr>\n",
       "    <tr>\n",
       "      <th>15</th>\n",
       "      <td>중년</td>\n",
       "      <td>여자</td>\n",
       "      <td>잠자는중</td>\n",
       "      <td>세미정장</td>\n",
       "      <td>1번 좌석</td>\n",
       "      <td>이어폰:O</td>\n",
       "      <td>판교/정자역</td>\n",
       "    </tr>\n",
       "    <tr>\n",
       "      <th>16</th>\n",
       "      <td>중년</td>\n",
       "      <td>남자</td>\n",
       "      <td>잠자는중</td>\n",
       "      <td>세미정장</td>\n",
       "      <td>2번 좌석</td>\n",
       "      <td>이어폰:X</td>\n",
       "      <td>강남역</td>\n",
       "    </tr>\n",
       "    <tr>\n",
       "      <th>17</th>\n",
       "      <td>중년</td>\n",
       "      <td>여자</td>\n",
       "      <td>핸드폰보기</td>\n",
       "      <td>세미정장</td>\n",
       "      <td>3번 좌석</td>\n",
       "      <td>이어폰:X</td>\n",
       "      <td>강남역</td>\n",
       "    </tr>\n",
       "    <tr>\n",
       "      <th>18</th>\n",
       "      <td>중년</td>\n",
       "      <td>남자</td>\n",
       "      <td>책읽기</td>\n",
       "      <td>평상복</td>\n",
       "      <td>4번 좌석</td>\n",
       "      <td>이어폰:O</td>\n",
       "      <td>강남역</td>\n",
       "    </tr>\n",
       "    <tr>\n",
       "      <th>19</th>\n",
       "      <td>중년</td>\n",
       "      <td>여자</td>\n",
       "      <td>잠자는중</td>\n",
       "      <td>세미정장</td>\n",
       "      <td>5번 좌석</td>\n",
       "      <td>이어폰:X</td>\n",
       "      <td>판교/정자역</td>\n",
       "    </tr>\n",
       "    <tr>\n",
       "      <th>20</th>\n",
       "      <td>중년</td>\n",
       "      <td>여자</td>\n",
       "      <td>생각중</td>\n",
       "      <td>세미정장</td>\n",
       "      <td>6번 좌석</td>\n",
       "      <td>이어폰:O</td>\n",
       "      <td>강남역</td>\n",
       "    </tr>\n",
       "    <tr>\n",
       "      <th>21</th>\n",
       "      <td>청년</td>\n",
       "      <td>여자</td>\n",
       "      <td>핸드폰보기</td>\n",
       "      <td>평상복</td>\n",
       "      <td>0번 좌석</td>\n",
       "      <td>이어폰:O</td>\n",
       "      <td>판교/정자역</td>\n",
       "    </tr>\n",
       "    <tr>\n",
       "      <th>22</th>\n",
       "      <td>중년</td>\n",
       "      <td>남자</td>\n",
       "      <td>핸드폰보기</td>\n",
       "      <td>세미정장</td>\n",
       "      <td>1번 좌석</td>\n",
       "      <td>이어폰:X</td>\n",
       "      <td>강남역</td>\n",
       "    </tr>\n",
       "    <tr>\n",
       "      <th>23</th>\n",
       "      <td>중년</td>\n",
       "      <td>남자</td>\n",
       "      <td>핸드폰보기</td>\n",
       "      <td>평상복</td>\n",
       "      <td>2번 좌석</td>\n",
       "      <td>이어폰:X</td>\n",
       "      <td>판교/정자역</td>\n",
       "    </tr>\n",
       "    <tr>\n",
       "      <th>24</th>\n",
       "      <td>청년</td>\n",
       "      <td>남자</td>\n",
       "      <td>핸드폰보기</td>\n",
       "      <td>평상복</td>\n",
       "      <td>3번 좌석</td>\n",
       "      <td>이어폰:X</td>\n",
       "      <td>강남역</td>\n",
       "    </tr>\n",
       "    <tr>\n",
       "      <th>25</th>\n",
       "      <td>중년</td>\n",
       "      <td>여자</td>\n",
       "      <td>잠자는중</td>\n",
       "      <td>세미정장</td>\n",
       "      <td>4번 좌석</td>\n",
       "      <td>이어폰:X</td>\n",
       "      <td>강남역</td>\n",
       "    </tr>\n",
       "    <tr>\n",
       "      <th>26</th>\n",
       "      <td>청년</td>\n",
       "      <td>여자</td>\n",
       "      <td>핸드폰보기</td>\n",
       "      <td>평상복</td>\n",
       "      <td>5번 좌석</td>\n",
       "      <td>이어폰:X</td>\n",
       "      <td>강남역</td>\n",
       "    </tr>\n",
       "    <tr>\n",
       "      <th>27</th>\n",
       "      <td>중년</td>\n",
       "      <td>여자</td>\n",
       "      <td>핸드폰보기</td>\n",
       "      <td>평상복</td>\n",
       "      <td>6번 좌석</td>\n",
       "      <td>이어폰:X</td>\n",
       "      <td>판교/정자역</td>\n",
       "    </tr>\n",
       "    <tr>\n",
       "      <th>28</th>\n",
       "      <td>청년</td>\n",
       "      <td>여자</td>\n",
       "      <td>핸드폰보기</td>\n",
       "      <td>평상복</td>\n",
       "      <td>0번 좌석</td>\n",
       "      <td>이어폰:O</td>\n",
       "      <td>판교/정자역</td>\n",
       "    </tr>\n",
       "    <tr>\n",
       "      <th>29</th>\n",
       "      <td>청년</td>\n",
       "      <td>여자</td>\n",
       "      <td>핸드폰보기</td>\n",
       "      <td>평상복</td>\n",
       "      <td>1번 좌석</td>\n",
       "      <td>이어폰:O</td>\n",
       "      <td>강남역</td>\n",
       "    </tr>\n",
       "    <tr>\n",
       "      <th>...</th>\n",
       "      <td>...</td>\n",
       "      <td>...</td>\n",
       "      <td>...</td>\n",
       "      <td>...</td>\n",
       "      <td>...</td>\n",
       "      <td>...</td>\n",
       "      <td>...</td>\n",
       "    </tr>\n",
       "    <tr>\n",
       "      <th>292</th>\n",
       "      <td>중년</td>\n",
       "      <td>남자</td>\n",
       "      <td>생각중</td>\n",
       "      <td>세미정장</td>\n",
       "      <td>5번 좌석</td>\n",
       "      <td>이어폰:X</td>\n",
       "      <td>판교/정자역</td>\n",
       "    </tr>\n",
       "    <tr>\n",
       "      <th>293</th>\n",
       "      <td>중년</td>\n",
       "      <td>여자</td>\n",
       "      <td>핸드폰보기</td>\n",
       "      <td>평상복</td>\n",
       "      <td>6번 좌석</td>\n",
       "      <td>이어폰:O</td>\n",
       "      <td>강남역</td>\n",
       "    </tr>\n",
       "    <tr>\n",
       "      <th>294</th>\n",
       "      <td>중년</td>\n",
       "      <td>여자</td>\n",
       "      <td>핸드폰보기</td>\n",
       "      <td>평상복</td>\n",
       "      <td>0번 좌석</td>\n",
       "      <td>이어폰:X</td>\n",
       "      <td>판교/정자역</td>\n",
       "    </tr>\n",
       "    <tr>\n",
       "      <th>295</th>\n",
       "      <td>중년</td>\n",
       "      <td>남자</td>\n",
       "      <td>핸드폰보기</td>\n",
       "      <td>평상복</td>\n",
       "      <td>1번 좌석</td>\n",
       "      <td>이어폰:O</td>\n",
       "      <td>강남역</td>\n",
       "    </tr>\n",
       "    <tr>\n",
       "      <th>296</th>\n",
       "      <td>중년</td>\n",
       "      <td>남자</td>\n",
       "      <td>잠자는중</td>\n",
       "      <td>평상복</td>\n",
       "      <td>2번 좌석</td>\n",
       "      <td>이어폰:X</td>\n",
       "      <td>강남역</td>\n",
       "    </tr>\n",
       "    <tr>\n",
       "      <th>297</th>\n",
       "      <td>중년</td>\n",
       "      <td>여자</td>\n",
       "      <td>핸드폰보기</td>\n",
       "      <td>평상복</td>\n",
       "      <td>3번 좌석</td>\n",
       "      <td>이어폰:O</td>\n",
       "      <td>강남역</td>\n",
       "    </tr>\n",
       "    <tr>\n",
       "      <th>298</th>\n",
       "      <td>청년</td>\n",
       "      <td>여자</td>\n",
       "      <td>생각중</td>\n",
       "      <td>평상복</td>\n",
       "      <td>4번 좌석</td>\n",
       "      <td>이어폰:O</td>\n",
       "      <td>강남역</td>\n",
       "    </tr>\n",
       "    <tr>\n",
       "      <th>299</th>\n",
       "      <td>장년</td>\n",
       "      <td>남자</td>\n",
       "      <td>핸드폰보기</td>\n",
       "      <td>세미정장</td>\n",
       "      <td>5번 좌석</td>\n",
       "      <td>이어폰:O</td>\n",
       "      <td>강남역</td>\n",
       "    </tr>\n",
       "    <tr>\n",
       "      <th>300</th>\n",
       "      <td>장년</td>\n",
       "      <td>남자</td>\n",
       "      <td>핸드폰보기</td>\n",
       "      <td>정장</td>\n",
       "      <td>6번 좌석</td>\n",
       "      <td>이어폰:X</td>\n",
       "      <td>강남역</td>\n",
       "    </tr>\n",
       "    <tr>\n",
       "      <th>301</th>\n",
       "      <td>중년</td>\n",
       "      <td>여자</td>\n",
       "      <td>잠자는중</td>\n",
       "      <td>평상복</td>\n",
       "      <td>0번 좌석</td>\n",
       "      <td>이어폰:X</td>\n",
       "      <td>강남역</td>\n",
       "    </tr>\n",
       "    <tr>\n",
       "      <th>302</th>\n",
       "      <td>중년</td>\n",
       "      <td>여자</td>\n",
       "      <td>잠자는중</td>\n",
       "      <td>평상복</td>\n",
       "      <td>1번 좌석</td>\n",
       "      <td>이어폰:X</td>\n",
       "      <td>판교/정자역</td>\n",
       "    </tr>\n",
       "    <tr>\n",
       "      <th>303</th>\n",
       "      <td>장년</td>\n",
       "      <td>남자</td>\n",
       "      <td>잠자는중</td>\n",
       "      <td>정장</td>\n",
       "      <td>2번 좌석</td>\n",
       "      <td>이어폰:X</td>\n",
       "      <td>강남역</td>\n",
       "    </tr>\n",
       "    <tr>\n",
       "      <th>304</th>\n",
       "      <td>중년</td>\n",
       "      <td>남자</td>\n",
       "      <td>핸드폰보기</td>\n",
       "      <td>평상복</td>\n",
       "      <td>3번 좌석</td>\n",
       "      <td>이어폰:X</td>\n",
       "      <td>판교/정자역</td>\n",
       "    </tr>\n",
       "    <tr>\n",
       "      <th>305</th>\n",
       "      <td>중년</td>\n",
       "      <td>남자</td>\n",
       "      <td>잠자는중</td>\n",
       "      <td>평상복</td>\n",
       "      <td>4번 좌석</td>\n",
       "      <td>이어폰:X</td>\n",
       "      <td>강남역</td>\n",
       "    </tr>\n",
       "    <tr>\n",
       "      <th>306</th>\n",
       "      <td>중년</td>\n",
       "      <td>남자</td>\n",
       "      <td>핸드폰보기</td>\n",
       "      <td>평상복</td>\n",
       "      <td>5번 좌석</td>\n",
       "      <td>이어폰:X</td>\n",
       "      <td>강남역</td>\n",
       "    </tr>\n",
       "    <tr>\n",
       "      <th>307</th>\n",
       "      <td>청년</td>\n",
       "      <td>여자</td>\n",
       "      <td>핸드폰보기</td>\n",
       "      <td>세미정장</td>\n",
       "      <td>6번 좌석</td>\n",
       "      <td>이어폰:O</td>\n",
       "      <td>강남역</td>\n",
       "    </tr>\n",
       "    <tr>\n",
       "      <th>308</th>\n",
       "      <td>장년</td>\n",
       "      <td>남자</td>\n",
       "      <td>책읽기</td>\n",
       "      <td>평상복</td>\n",
       "      <td>0번 좌석</td>\n",
       "      <td>이어폰:X</td>\n",
       "      <td>판교/정자역</td>\n",
       "    </tr>\n",
       "    <tr>\n",
       "      <th>309</th>\n",
       "      <td>중년</td>\n",
       "      <td>남자</td>\n",
       "      <td>잠자는중</td>\n",
       "      <td>세미정장</td>\n",
       "      <td>1번 좌석</td>\n",
       "      <td>이어폰:X</td>\n",
       "      <td>강남역</td>\n",
       "    </tr>\n",
       "    <tr>\n",
       "      <th>310</th>\n",
       "      <td>중년</td>\n",
       "      <td>여자</td>\n",
       "      <td>핸드폰보기</td>\n",
       "      <td>평상복</td>\n",
       "      <td>2번 좌석</td>\n",
       "      <td>이어폰:X</td>\n",
       "      <td>강남역</td>\n",
       "    </tr>\n",
       "    <tr>\n",
       "      <th>311</th>\n",
       "      <td>장년</td>\n",
       "      <td>남자</td>\n",
       "      <td>생각중</td>\n",
       "      <td>세미정장</td>\n",
       "      <td>3번 좌석</td>\n",
       "      <td>이어폰:O</td>\n",
       "      <td>강남역</td>\n",
       "    </tr>\n",
       "    <tr>\n",
       "      <th>312</th>\n",
       "      <td>중년</td>\n",
       "      <td>남자</td>\n",
       "      <td>핸드폰보기</td>\n",
       "      <td>세미정장</td>\n",
       "      <td>4번 좌석</td>\n",
       "      <td>이어폰:X</td>\n",
       "      <td>강남역</td>\n",
       "    </tr>\n",
       "    <tr>\n",
       "      <th>313</th>\n",
       "      <td>중년</td>\n",
       "      <td>남자</td>\n",
       "      <td>잠자는중</td>\n",
       "      <td>세미정장</td>\n",
       "      <td>5번 좌석</td>\n",
       "      <td>이어폰:X</td>\n",
       "      <td>강남역</td>\n",
       "    </tr>\n",
       "    <tr>\n",
       "      <th>314</th>\n",
       "      <td>중년</td>\n",
       "      <td>여자</td>\n",
       "      <td>핸드폰보기</td>\n",
       "      <td>평상복</td>\n",
       "      <td>6번 좌석</td>\n",
       "      <td>이어폰:X</td>\n",
       "      <td>강남역</td>\n",
       "    </tr>\n",
       "    <tr>\n",
       "      <th>315</th>\n",
       "      <td>중년</td>\n",
       "      <td>여자</td>\n",
       "      <td>핸드폰보기</td>\n",
       "      <td>세미정장</td>\n",
       "      <td>0번 좌석</td>\n",
       "      <td>이어폰:O</td>\n",
       "      <td>판교/정자역</td>\n",
       "    </tr>\n",
       "    <tr>\n",
       "      <th>316</th>\n",
       "      <td>중년</td>\n",
       "      <td>여자</td>\n",
       "      <td>핸드폰보기</td>\n",
       "      <td>평상복</td>\n",
       "      <td>1번 좌석</td>\n",
       "      <td>이어폰:O</td>\n",
       "      <td>강남역</td>\n",
       "    </tr>\n",
       "    <tr>\n",
       "      <th>317</th>\n",
       "      <td>청년</td>\n",
       "      <td>남자</td>\n",
       "      <td>잠자는중</td>\n",
       "      <td>정장</td>\n",
       "      <td>2번 좌석</td>\n",
       "      <td>이어폰:X</td>\n",
       "      <td>강남역</td>\n",
       "    </tr>\n",
       "    <tr>\n",
       "      <th>318</th>\n",
       "      <td>중년</td>\n",
       "      <td>남자</td>\n",
       "      <td>핸드폰보기</td>\n",
       "      <td>정장</td>\n",
       "      <td>3번 좌석</td>\n",
       "      <td>이어폰:O</td>\n",
       "      <td>강남역</td>\n",
       "    </tr>\n",
       "    <tr>\n",
       "      <th>319</th>\n",
       "      <td>중년</td>\n",
       "      <td>남자</td>\n",
       "      <td>핸드폰보기</td>\n",
       "      <td>평상복</td>\n",
       "      <td>4번 좌석</td>\n",
       "      <td>이어폰:X</td>\n",
       "      <td>강남역</td>\n",
       "    </tr>\n",
       "    <tr>\n",
       "      <th>320</th>\n",
       "      <td>장년</td>\n",
       "      <td>남자</td>\n",
       "      <td>잠자는중</td>\n",
       "      <td>세미정장</td>\n",
       "      <td>5번 좌석</td>\n",
       "      <td>이어폰:O</td>\n",
       "      <td>강남역</td>\n",
       "    </tr>\n",
       "    <tr>\n",
       "      <th>321</th>\n",
       "      <td>중년</td>\n",
       "      <td>남자</td>\n",
       "      <td>핸드폰보기</td>\n",
       "      <td>평상복</td>\n",
       "      <td>6번 좌석</td>\n",
       "      <td>이어폰:X</td>\n",
       "      <td>판교/정자역</td>\n",
       "    </tr>\n",
       "  </tbody>\n",
       "</table>\n",
       "<p>322 rows × 7 columns</p>\n",
       "</div>"
      ],
      "text/plain": [
       "    연령대  성별     행동    복장 seat_loc  이어폰여부    내리는역\n",
       "0    중년  여자  핸드폰보기    정장    0번 좌석  이어폰:X     강남역\n",
       "1    중년  남자  핸드폰보기    정장    1번 좌석  이어폰:X     강남역\n",
       "2    중년  남자   잠자는중    정장    2번 좌석  이어폰:O     강남역\n",
       "3    중년  남자  핸드폰보기  세미정장    3번 좌석  이어폰:O     강남역\n",
       "4    중년  여자    노트북  세미정장    4번 좌석  이어폰:O  판교/정자역\n",
       "5    장년  여자  핸드폰보기   평상복    5번 좌석  이어폰:X  판교/정자역\n",
       "6    중년  남자   잠자는중    정장    6번 좌석  이어폰:O     강남역\n",
       "7    중년  남자  핸드폰보기    정장    0번 좌석  이어폰:X     강남역\n",
       "8    중년  남자  핸드폰보기  세미정장    1번 좌석  이어폰:O  판교/정자역\n",
       "9    중년  남자  핸드폰보기   평상복    2번 좌석  이어폰:X  판교/정자역\n",
       "10   장년  여자   잠자는중   평상복    3번 좌석  이어폰:X     강남역\n",
       "11   중년  남자   잠자는중   평상복    4번 좌석  이어폰:X     강남역\n",
       "12   중년  여자  핸드폰보기  세미정장    5번 좌석  이어폰:O     강남역\n",
       "13   중년  여자  핸드폰보기   평상복    6번 좌석  이어폰:X     강남역\n",
       "14   청년  여자  핸드폰보기   평상복    0번 좌석  이어폰:O  판교/정자역\n",
       "15   중년  여자   잠자는중  세미정장    1번 좌석  이어폰:O  판교/정자역\n",
       "16   중년  남자   잠자는중  세미정장    2번 좌석  이어폰:X     강남역\n",
       "17   중년  여자  핸드폰보기  세미정장    3번 좌석  이어폰:X     강남역\n",
       "18   중년  남자    책읽기   평상복    4번 좌석  이어폰:O     강남역\n",
       "19   중년  여자   잠자는중  세미정장    5번 좌석  이어폰:X  판교/정자역\n",
       "20   중년  여자    생각중  세미정장    6번 좌석  이어폰:O     강남역\n",
       "21   청년  여자  핸드폰보기   평상복    0번 좌석  이어폰:O  판교/정자역\n",
       "22   중년  남자  핸드폰보기  세미정장    1번 좌석  이어폰:X     강남역\n",
       "23   중년  남자  핸드폰보기   평상복    2번 좌석  이어폰:X  판교/정자역\n",
       "24   청년  남자  핸드폰보기   평상복    3번 좌석  이어폰:X     강남역\n",
       "25   중년  여자   잠자는중  세미정장    4번 좌석  이어폰:X     강남역\n",
       "26   청년  여자  핸드폰보기   평상복    5번 좌석  이어폰:X     강남역\n",
       "27   중년  여자  핸드폰보기   평상복    6번 좌석  이어폰:X  판교/정자역\n",
       "28   청년  여자  핸드폰보기   평상복    0번 좌석  이어폰:O  판교/정자역\n",
       "29   청년  여자  핸드폰보기   평상복    1번 좌석  이어폰:O     강남역\n",
       "..   ..  ..    ...   ...      ...    ...     ...\n",
       "292  중년  남자    생각중  세미정장    5번 좌석  이어폰:X  판교/정자역\n",
       "293  중년  여자  핸드폰보기   평상복    6번 좌석  이어폰:O     강남역\n",
       "294  중년  여자  핸드폰보기   평상복    0번 좌석  이어폰:X  판교/정자역\n",
       "295  중년  남자  핸드폰보기   평상복    1번 좌석  이어폰:O     강남역\n",
       "296  중년  남자   잠자는중   평상복    2번 좌석  이어폰:X     강남역\n",
       "297  중년  여자  핸드폰보기   평상복    3번 좌석  이어폰:O     강남역\n",
       "298  청년  여자    생각중   평상복    4번 좌석  이어폰:O     강남역\n",
       "299  장년  남자  핸드폰보기  세미정장    5번 좌석  이어폰:O     강남역\n",
       "300  장년  남자  핸드폰보기    정장    6번 좌석  이어폰:X     강남역\n",
       "301  중년  여자   잠자는중   평상복    0번 좌석  이어폰:X     강남역\n",
       "302  중년  여자   잠자는중   평상복    1번 좌석  이어폰:X  판교/정자역\n",
       "303  장년  남자   잠자는중    정장    2번 좌석  이어폰:X     강남역\n",
       "304  중년  남자  핸드폰보기   평상복    3번 좌석  이어폰:X  판교/정자역\n",
       "305  중년  남자   잠자는중   평상복    4번 좌석  이어폰:X     강남역\n",
       "306  중년  남자  핸드폰보기   평상복    5번 좌석  이어폰:X     강남역\n",
       "307  청년  여자  핸드폰보기  세미정장    6번 좌석  이어폰:O     강남역\n",
       "308  장년  남자    책읽기   평상복    0번 좌석  이어폰:X  판교/정자역\n",
       "309  중년  남자   잠자는중  세미정장    1번 좌석  이어폰:X     강남역\n",
       "310  중년  여자  핸드폰보기   평상복    2번 좌석  이어폰:X     강남역\n",
       "311  장년  남자    생각중  세미정장    3번 좌석  이어폰:O     강남역\n",
       "312  중년  남자  핸드폰보기  세미정장    4번 좌석  이어폰:X     강남역\n",
       "313  중년  남자   잠자는중  세미정장    5번 좌석  이어폰:X     강남역\n",
       "314  중년  여자  핸드폰보기   평상복    6번 좌석  이어폰:X     강남역\n",
       "315  중년  여자  핸드폰보기  세미정장    0번 좌석  이어폰:O  판교/정자역\n",
       "316  중년  여자  핸드폰보기   평상복    1번 좌석  이어폰:O     강남역\n",
       "317  청년  남자   잠자는중    정장    2번 좌석  이어폰:X     강남역\n",
       "318  중년  남자  핸드폰보기    정장    3번 좌석  이어폰:O     강남역\n",
       "319  중년  남자  핸드폰보기   평상복    4번 좌석  이어폰:X     강남역\n",
       "320  장년  남자   잠자는중  세미정장    5번 좌석  이어폰:O     강남역\n",
       "321  중년  남자  핸드폰보기   평상복    6번 좌석  이어폰:X  판교/정자역\n",
       "\n",
       "[322 rows x 7 columns]"
      ]
     },
     "execution_count": 307,
     "metadata": {},
     "output_type": "execute_result"
    }
   ],
   "source": [
    "passenger"
   ]
  },
  {
   "cell_type": "code",
   "execution_count": 308,
   "metadata": {},
   "outputs": [
    {
     "data": {
      "text/html": [
       "<div>\n",
       "<style>\n",
       "    .dataframe thead tr:only-child th {\n",
       "        text-align: right;\n",
       "    }\n",
       "\n",
       "    .dataframe thead th {\n",
       "        text-align: left;\n",
       "    }\n",
       "\n",
       "    .dataframe tbody tr th {\n",
       "        vertical-align: top;\n",
       "    }\n",
       "</style>\n",
       "<table border=\"1\" class=\"dataframe\">\n",
       "  <thead>\n",
       "    <tr style=\"text-align: right;\">\n",
       "      <th></th>\n",
       "      <th>연령대</th>\n",
       "      <th>성별</th>\n",
       "      <th>행동</th>\n",
       "      <th>복장</th>\n",
       "      <th>seat_loc</th>\n",
       "      <th>이어폰여부</th>\n",
       "      <th>내리는역</th>\n",
       "    </tr>\n",
       "  </thead>\n",
       "  <tbody>\n",
       "    <tr>\n",
       "      <th>0</th>\n",
       "      <td>1</td>\n",
       "      <td>1</td>\n",
       "      <td>5</td>\n",
       "      <td>1</td>\n",
       "      <td>0</td>\n",
       "      <td>1</td>\n",
       "      <td>0</td>\n",
       "    </tr>\n",
       "    <tr>\n",
       "      <th>1</th>\n",
       "      <td>1</td>\n",
       "      <td>0</td>\n",
       "      <td>5</td>\n",
       "      <td>1</td>\n",
       "      <td>1</td>\n",
       "      <td>1</td>\n",
       "      <td>0</td>\n",
       "    </tr>\n",
       "  </tbody>\n",
       "</table>\n",
       "</div>"
      ],
      "text/plain": [
       "   연령대  성별  행동  복장  seat_loc  이어폰여부  내리는역\n",
       "0    1   1   5   1         0      1     0\n",
       "1    1   0   5   1         1      1     0"
      ]
     },
     "execution_count": 308,
     "metadata": {},
     "output_type": "execute_result"
    }
   ],
   "source": [
    "from sklearn.preprocessing import LabelEncoder, OneHotEncoder\n",
    "from collections import defaultdict\n",
    "from sklearn.model_selection import train_test_split\n",
    "\n",
    "enc_dict = defaultdict(LabelEncoder)\n",
    "le_passenger = passenger.apply(lambda x:enc_dict[x.name].fit_transform(x))\n",
    "le_passenger.head(2)"
   ]
  },
  {
   "cell_type": "code",
   "execution_count": 310,
   "metadata": {},
   "outputs": [],
   "source": [
    "X = le_passenger.drop(target_name, axis=1)\n",
    "y = le_passenger[target_name]"
   ]
  },
  {
   "cell_type": "code",
   "execution_count": 311,
   "metadata": {},
   "outputs": [],
   "source": [
    "from sklearn.model_selection import train_test_split\n",
    "\n",
    "X_train, X_test, y_train, y_test = train_test_split(X, y, test_size=0.25, random_state=1,shuffle=False)"
   ]
  },
  {
   "cell_type": "code",
   "execution_count": 315,
   "metadata": {},
   "outputs": [
    {
     "data": {
      "text/plain": [
       "(241, 6)"
      ]
     },
     "execution_count": 315,
     "metadata": {},
     "output_type": "execute_result"
    }
   ],
   "source": [
    "X_train.shape"
   ]
  },
  {
   "cell_type": "code",
   "execution_count": 316,
   "metadata": {},
   "outputs": [
    {
     "name": "stderr",
     "output_type": "stream",
     "text": [
      "C:\\Users\\hanbum\\Anaconda3\\lib\\site-packages\\sklearn\\cross_validation.py:41: DeprecationWarning: This module was deprecated in version 0.18 in favor of the model_selection module into which all the refactored classes and functions are moved. Also note that the interface of the new CV iterators are different from that of this module. This module will be removed in 0.20.\n",
      "  \"This module will be removed in 0.20.\", DeprecationWarning)\n"
     ]
    }
   ],
   "source": [
    "## ML Pipeline 생성\n",
    "from sklearn.pipeline import Pipeline\n",
    "from sklearn.metrics import accuracy_score\n",
    "\n",
    "from sklearn.ensemble import RandomForestClassifier\n",
    "from sklearn.tree import DecisionTreeClassifier\n",
    "from sklearn.linear_model import LogisticRegression\n",
    "from sklearn.neighbors import KNeighborsClassifier\n",
    "from sklearn.naive_bayes import MultinomialNB\n",
    "from sklearn.neural_network import MLPClassifier\n",
    "from sklearn.ensemble import GradientBoostingClassifier\n",
    "from sklearn.svm import SVC\n",
    "from sklearn.cross_validation import cross_val_score\n",
    "\n",
    "from time import time\n",
    "from sklearn import metrics\n",
    "from optparse import OptionParser"
   ]
  },
  {
   "cell_type": "code",
   "execution_count": 318,
   "metadata": {},
   "outputs": [],
   "source": [
    "def printResult(clf, name):\n",
    "    print(\"Train set accuracy = \", tree.score(X_train, y_train))\n",
    "    print(\"Test set accuracy = \", tree.score(X_test, y_test))"
   ]
  },
  {
   "cell_type": "markdown",
   "metadata": {},
   "source": [
    "### decision tree"
   ]
  },
  {
   "cell_type": "code",
   "execution_count": 319,
   "metadata": {},
   "outputs": [
    {
     "name": "stdout",
     "output_type": "stream",
     "text": [
      "Train set accuracy =  0.834024896266\n",
      "Test set accuracy =  0.765432098765\n"
     ]
    }
   ],
   "source": [
    "tree = DecisionTreeClassifier(random_state=10\n",
    "                              , min_weight_fraction_leaf=0.01)\n",
    "tree.fit(X_train, y_train)\n",
    "print(\"Train set accuracy = \", tree.score(X_train, y_train))\n",
    "print(\"Test set accuracy = \", tree.score(X_test, y_test))"
   ]
  },
  {
   "cell_type": "markdown",
   "metadata": {},
   "source": [
    "### random forest"
   ]
  },
  {
   "cell_type": "code",
   "execution_count": 320,
   "metadata": {},
   "outputs": [
    {
     "name": "stdout",
     "output_type": "stream",
     "text": [
      "Train set accuracy =  0.892116182573\n",
      "Test set accuracy =  0.716049382716\n",
      "CV 10fold =  0.751470588235\n",
      "             precision    recall  f1-score   support\n",
      "\n",
      "          0       0.83      0.89      0.86        64\n",
      "          1       0.42      0.29      0.34        17\n",
      "\n",
      "avg / total       0.74      0.77      0.75        81\n",
      "\n",
      "Random Forest:\n",
      " [[57  7]\n",
      " [12  5]]\n"
     ]
    }
   ],
   "source": [
    "randomforest = RandomForestClassifier(n_estimators=1000, max_depth=None, \n",
    "                                      min_samples_split=2, \n",
    "                                      random_state=10)\n",
    "randomforest.fit(X_train, y_train)\n",
    "print(\"Train set accuracy = \", randomforest.score(X_train, y_train))\n",
    "print(\"Test set accuracy = \", randomforest.score(X_test, y_test))\n",
    "print(\"CV 10fold = \", cross_val_score(randomforest, X, y, cv=10).mean())\n",
    "print(metrics.classification_report(y_test, tree.predict(X_test)))\n",
    "print(\"Random Forest:\\n\", metrics.confusion_matrix(y_test, tree.predict(X_test)))"
   ]
  },
  {
   "cell_type": "code",
   "execution_count": 322,
   "metadata": {},
   "outputs": [],
   "source": [
    "tree_models = [tree, randomforest]\n",
    "tree_names = ['Decision Tree', 'RandomForest']\n",
    "scores = [(name,clf.score(X_train, y_train), clf.score(X_test, y_test)) for name, clf in zip(tree_names,tree_models)]\n",
    "tree_score_ds = pd.DataFrame(scores, columns=['Model', 'Train Accuracy', 'Test Accuracy'])"
   ]
  },
  {
   "cell_type": "code",
   "execution_count": 323,
   "metadata": {},
   "outputs": [
    {
     "data": {
      "text/plain": [
       "<matplotlib.axes._subplots.AxesSubplot at 0x29cf06c4978>"
      ]
     },
     "execution_count": 323,
     "metadata": {},
     "output_type": "execute_result"
    },
    {
     "name": "stderr",
     "output_type": "stream",
     "text": [
      "C:\\Users\\hanbum\\Anaconda3\\lib\\site-packages\\matplotlib\\font_manager.py:1316: UserWarning: findfont: Font family ['AppleGothic'] not found. Falling back to DejaVu Sans\n",
      "  (prop.get_family(), self.defaultFamily[fontext]))\n"
     ]
    },
    {
     "data": {
      "image/png": "[encoded data removed]",
      "text/plain": [
       "<matplotlib.figure.Figure at 0x29cef8cd5f8>"
      ]
     },
     "metadata": {},
     "output_type": "display_data"
    }
   ],
   "source": [
    "tree_score_ds.plot(kind='barh', x='Model', figsize=(8,6))"
   ]
  },
  {
   "cell_type": "markdown",
   "metadata": {},
   "source": [
    "### logistic"
   ]
  },
  {
   "cell_type": "code",
   "execution_count": 324,
   "metadata": {},
   "outputs": [
    {
     "name": "stdout",
     "output_type": "stream",
     "text": [
      "Train set accuracy =  0.775933609959\n",
      "Test set accuracy =  0.79012345679\n",
      "CV 10fold =  0.779595588235\n"
     ]
    }
   ],
   "source": [
    "logistic = LogisticRegression(random_state=10)\n",
    "logistic.fit(X_train, y_train)\n",
    "print(\"Train set accuracy = \", logistic.score(X_train, y_train))\n",
    "print(\"Test set accuracy = \", logistic.score(X_test, y_test))\n",
    "print(\"CV 10fold = \", cross_val_score(logistic, X, y, cv=10).mean())"
   ]
  },
  {
   "cell_type": "markdown",
   "metadata": {},
   "source": [
    "### SVC"
   ]
  },
  {
   "cell_type": "code",
   "execution_count": 325,
   "metadata": {},
   "outputs": [
    {
     "name": "stdout",
     "output_type": "stream",
     "text": [
      "Train set accuracy =  0.809128630705\n",
      "Test set accuracy =  0.79012345679\n",
      "CV 10fold =  0.779595588235\n"
     ]
    }
   ],
   "source": [
    "svc = SVC(random_state=10)\n",
    "svc.fit(X_train, y_train)\n",
    "print(\"Train set accuracy = \", svc.score(X_train, y_train))\n",
    "print(\"Test set accuracy = \", svc.score(X_test, y_test))\n",
    "print(\"CV 10fold = \", cross_val_score(svc, X, y, cv=10).mean())"
   ]
  },
  {
   "cell_type": "markdown",
   "metadata": {},
   "source": [
    "### KNN"
   ]
  },
  {
   "cell_type": "code",
   "execution_count": 326,
   "metadata": {},
   "outputs": [
    {
     "name": "stdout",
     "output_type": "stream",
     "text": [
      "Train set accuracy =  0.892116182573\n",
      "Test set accuracy =  0.777777777778\n",
      "CV 10fold =  0.754595588235\n"
     ]
    }
   ],
   "source": [
    "knn = KNeighborsClassifier(weights='distance', n_neighbors=20)\n",
    "knn.fit(X_train, y_train)\n",
    "print(\"Train set accuracy = \", knn.score(X_train, y_train))\n",
    "print(\"Test set accuracy = \", knn.score(X_test, y_test))\n",
    "print(\"CV 10fold = \", cross_val_score(knn, X, y, cv=10).mean())"
   ]
  },
  {
   "cell_type": "markdown",
   "metadata": {},
   "source": [
    "### Naive Bayse"
   ]
  },
  {
   "cell_type": "code",
   "execution_count": 327,
   "metadata": {},
   "outputs": [
    {
     "name": "stdout",
     "output_type": "stream",
     "text": [
      "Train set accuracy =  0.775933609959\n",
      "Test set accuracy =  0.79012345679\n",
      "CV 10fold =  0.779595588235\n"
     ]
    }
   ],
   "source": [
    "nb = MultinomialNB(alpha=.1)\n",
    "nb.fit(X_train, y_train)\n",
    "print(\"Train set accuracy = \", nb.score(X_train, y_train))\n",
    "print(\"Test set accuracy = \", nb.score(X_test, y_test))\n",
    "print(\"CV 10fold = \", cross_val_score(nb, X, y, cv=10).mean())"
   ]
  },
  {
   "cell_type": "markdown",
   "metadata": {},
   "source": [
    "### Neural Network(MLP)"
   ]
  },
  {
   "cell_type": "code",
   "execution_count": 328,
   "metadata": {},
   "outputs": [
    {
     "name": "stdout",
     "output_type": "stream",
     "text": [
      "Train set accuracy =  0.850622406639\n",
      "Test set accuracy =  0.666666666667\n",
      "CV 10fold =  0.723713235294\n"
     ]
    }
   ],
   "source": [
    "mlp = MLPClassifier(solver='lbfgs', alpha=1e-5, hidden_layer_sizes=(20, 4), random_state=10, max_iter=1000\n",
    "                  )\n",
    "\n",
    "mlp.fit(X_train, y_train)\n",
    "print(\"Train set accuracy = \", mlp.score(X_train, y_train))\n",
    "print(\"Test set accuracy = \", mlp.score(X_test, y_test))\n",
    "print(\"CV 10fold = \", cross_val_score(mlp, X, y, cv=10).mean())"
   ]
  },
  {
   "cell_type": "code",
   "execution_count": 329,
   "metadata": {},
   "outputs": [],
   "source": [
    "def drawConfusionMatric(confusion_matric, name):\n",
    "\n",
    "    plt.figure(figsize=(3,2))\n",
    "    cm_ds = pd.DataFrame(confusion_matric, columns=[\"강남\",\"판교/정자\"], index=[\"강남\",\"판교/정자\"])\n",
    "#     cm_ds.columns.name=\"Predicted\"\n",
    "#     cm_ds.index.name = \"Actual\"\n",
    "    sns.heatmap(cm_ds, cmap='Blues',annot=True, fmt=\"d\", vmax=20, cbar=False)\n",
    "    plt.title(name)"
   ]
  },
  {
   "cell_type": "code",
   "execution_count": 333,
   "metadata": {},
   "outputs": [
    {
     "data": {
      "text/plain": [
       "array([[57,  7],\n",
       "       [12,  5]], dtype=int64)"
      ]
     },
     "execution_count": 333,
     "metadata": {},
     "output_type": "execute_result"
    }
   ],
   "source": [
    "confusion_matric = metrics.confusion_matrix(y_test, tree.predict(X_test))\n",
    "\n",
    "confusion_matric"
   ]
  },
  {
   "cell_type": "code",
   "execution_count": 335,
   "metadata": {},
   "outputs": [],
   "source": [
    "sns.set(style=\"whitegrid\", rc={'font.family':'nanumsquare', 'figure.figsize': (12, 5)}, font_scale=1.4)"
   ]
  },
  {
   "cell_type": "code",
   "execution_count": 336,
   "metadata": {},
   "outputs": [
    {
     "data": {
      "image/png": "[encoded data removed]",
      "text/plain": [
       "<matplotlib.figure.Figure at 0x29cf12f0208>"
      ]
     },
     "metadata": {},
     "output_type": "display_data"
    }
   ],
   "source": [
    "drawConfusionMatric(confusion_matric, \"Decision Tree\")"
   ]
  },
  {
   "cell_type": "code",
   "execution_count": 337,
   "metadata": {},
   "outputs": [
    {
     "data": {
      "text/html": [
       "<div>\n",
       "<style>\n",
       "    .dataframe thead tr:only-child th {\n",
       "        text-align: right;\n",
       "    }\n",
       "\n",
       "    .dataframe thead th {\n",
       "        text-align: left;\n",
       "    }\n",
       "\n",
       "    .dataframe tbody tr th {\n",
       "        vertical-align: top;\n",
       "    }\n",
       "</style>\n",
       "<table border=\"1\" class=\"dataframe\">\n",
       "  <thead>\n",
       "    <tr style=\"text-align: right;\">\n",
       "      <th></th>\n",
       "      <th>importance</th>\n",
       "    </tr>\n",
       "  </thead>\n",
       "  <tbody>\n",
       "    <tr>\n",
       "      <th>seat_loc</th>\n",
       "      <td>0.390400</td>\n",
       "    </tr>\n",
       "    <tr>\n",
       "      <th>행동</th>\n",
       "      <td>0.207413</td>\n",
       "    </tr>\n",
       "    <tr>\n",
       "      <th>복장</th>\n",
       "      <td>0.136080</td>\n",
       "    </tr>\n",
       "    <tr>\n",
       "      <th>연령대</th>\n",
       "      <td>0.106455</td>\n",
       "    </tr>\n",
       "    <tr>\n",
       "      <th>이어폰여부</th>\n",
       "      <td>0.080634</td>\n",
       "    </tr>\n",
       "    <tr>\n",
       "      <th>성별</th>\n",
       "      <td>0.079017</td>\n",
       "    </tr>\n",
       "  </tbody>\n",
       "</table>\n",
       "</div>"
      ],
      "text/plain": [
       "          importance\n",
       "seat_loc    0.390400\n",
       "행동          0.207413\n",
       "복장          0.136080\n",
       "연령대         0.106455\n",
       "이어폰여부       0.080634\n",
       "성별          0.079017"
      ]
     },
     "execution_count": 337,
     "metadata": {},
     "output_type": "execute_result"
    },
    {
     "name": "stderr",
     "output_type": "stream",
     "text": [
      "C:\\Users\\hanbum\\Anaconda3\\lib\\site-packages\\matplotlib\\font_manager.py:1316: UserWarning: findfont: Font family ['AppleGothic'] not found. Falling back to DejaVu Sans\n",
      "  (prop.get_family(), self.defaultFamily[fontext]))\n"
     ]
    },
    {
     "data": {
      "image/png": "[encoded data removed]",
      "text/plain": [
       "<matplotlib.figure.Figure at 0x29cf3443e10>"
      ]
     },
     "metadata": {},
     "output_type": "display_data"
    }
   ],
   "source": [
    "randomforest\n",
    "\n",
    "feature_importance_ds = pd.DataFrame(data=randomforest.feature_importances_, index=X_train.columns, columns=['importance'])\n",
    "feature_importance_ds.sort_values(['importance'], ascending=False, inplace=True)\n",
    "\n",
    "sns.set(style=\"whitegrid\", rc={'font.family':'AppleGothic', 'figure.figsize': (12, 5)}, font_scale=2)\n",
    "\n",
    "feature_importance_ds.plot(kind='bar', figsize=(6,6))\n",
    "feature_importance_ds"
   ]
  },
  {
   "cell_type": "code",
   "execution_count": null,
   "metadata": {},
   "outputs": [],
   "source": []
  },
  {
   "cell_type": "code",
   "execution_count": null,
   "metadata": {},
   "outputs": [],
   "source": []
  },
  {
   "cell_type": "markdown",
   "metadata": {},
   "source": [
    "----------------------------------------------------------------------------\n",
    "\n",
    "+ Correlation \n",
    "    + 상관계수측정을 위해 categorical data -> number type 변환\n",
    "    + categorical value --> label encoding --> one hot encoding(binary) \n",
    "    --> correlation matrix --> clustering by correlation <br>\n",
    "\n",
    "(Bivariate Distribution Plot??)\n",
    "\n",
    "----------------------------------------------------------------------------"
   ]
  },
  {
   "cell_type": "markdown",
   "metadata": {},
   "source": [
    "+ Modeling <br>\n",
    "    + Modeling Overview : feature / classfication or regression / imbalanced data / data 건수 <br>\n",
    "    \n",
    "    + Model baseline : data의 특성에 따라\n",
    "    \n",
    "    + dataset 분리 : trainset / testset\n",
    "    \n",
    "    + Classification algorithm : <br>\n",
    "        Tree - Decision / randomforest / gradient boosting <br>\n",
    "        Regression - Logistic <br>\n",
    "        SVM - SVC <br>\n",
    "        KNN - KNeighbors classifier <br>\n",
    "        Bayesian - Multinomial NB <br>\n",
    "        Neural Network - MLPClassifier <br>\n",
    "                                 \n",
    "    + Featur Importances --> RF에서 불순도 감소분으로 각 Feature들의 중요도를 가늠 --> 변수 선택으로도 사용가능\n",
    "    \n",
    "----------------------------------------------------------------------------"
   ]
  },
  {
   "cell_type": "markdown",
   "metadata": {},
   "source": [
    "- Metric (Confusion Matrix)\n",
    "    - Precision / Recall\n",
    "    "
   ]
  },
  {
   "cell_type": "code",
   "execution_count": null,
   "metadata": {},
   "outputs": [],
   "source": []
  },
  {
   "cell_type": "code",
   "execution_count": null,
   "metadata": {},
   "outputs": [],
   "source": []
  },
  {
   "cell_type": "code",
   "execution_count": null,
   "metadata": {},
   "outputs": [],
   "source": []
  },
  {
   "cell_type": "code",
   "execution_count": null,
   "metadata": {},
   "outputs": [],
   "source": []
  },
  {
   "cell_type": "code",
   "execution_count": null,
   "metadata": {},
   "outputs": [],
   "source": []
  },
  {
   "cell_type": "markdown",
   "metadata": {},
   "source": [
    "### 2. 설문 조사 데이터 탐색"
   ]
  },
  {
   "cell_type": "code",
   "execution_count": 4,
   "metadata": {},
   "outputs": [
    {
     "name": "stdout",
     "output_type": "stream",
     "text": [
      "C:\\Users\\hanbum\\Desktop\\2018\\work\\2. Project\\3. Personal\\tacademy\\1. python_eda\n"
     ]
    }
   ],
   "source": [
    "import pandas as pd\n",
    "import numpy as np\n",
    "import seaborn as sns\n",
    "import matplotlib as plt\n",
    "\n",
    "\n",
    "%cd C:\\Users\\hanbum\\Desktop\\2018\\work\\2. Project\\3. Personal\\tacademy\\1. python_eda\n",
    "\n",
    "pd.options.display.max_rows = 10\n",
    "%matplotlib inline"
   ]
  },
  {
   "cell_type": "code",
   "execution_count": 5,
   "metadata": {},
   "outputs": [
    {
     "data": {
      "text/html": [
       "<div>\n",
       "<style>\n",
       "    .dataframe thead tr:only-child th {\n",
       "        text-align: right;\n",
       "    }\n",
       "\n",
       "    .dataframe thead th {\n",
       "        text-align: left;\n",
       "    }\n",
       "\n",
       "    .dataframe tbody tr th {\n",
       "        vertical-align: top;\n",
       "    }\n",
       "</style>\n",
       "<table border=\"1\" class=\"dataframe\">\n",
       "  <thead>\n",
       "    <tr style=\"text-align: right;\">\n",
       "      <th></th>\n",
       "      <th>타임스탬프</th>\n",
       "      <th>닉네임</th>\n",
       "      <th>직업</th>\n",
       "      <th>성별</th>\n",
       "      <th>나이</th>\n",
       "      <th>복장</th>\n",
       "      <th>상의옷색상</th>\n",
       "      <th>하의옷색상</th>\n",
       "      <th>하의옷종류</th>\n",
       "      <th>신발색상</th>\n",
       "      <th>신발종류</th>\n",
       "      <th>사는곳</th>\n",
       "      <th>전공</th>\n",
       "      <th>실습환경OS</th>\n",
       "    </tr>\n",
       "  </thead>\n",
       "  <tbody>\n",
       "    <tr>\n",
       "      <th>0</th>\n",
       "      <td>2017. 10. 16 오전 5:57:16</td>\n",
       "      <td>닉1</td>\n",
       "      <td>대학생</td>\n",
       "      <td>남</td>\n",
       "      <td>20</td>\n",
       "      <td>평상복</td>\n",
       "      <td>흰색</td>\n",
       "      <td>흰색</td>\n",
       "      <td>청바지</td>\n",
       "      <td>흰색</td>\n",
       "      <td>구두</td>\n",
       "      <td>강남</td>\n",
       "      <td>컴공</td>\n",
       "      <td>맥OS</td>\n",
       "    </tr>\n",
       "    <tr>\n",
       "      <th>1</th>\n",
       "      <td>2017. 10. 16 오전 5:57:16</td>\n",
       "      <td>닉2</td>\n",
       "      <td>대학생</td>\n",
       "      <td>남</td>\n",
       "      <td>20</td>\n",
       "      <td>평상복</td>\n",
       "      <td>흰색</td>\n",
       "      <td>흰색</td>\n",
       "      <td>청바지</td>\n",
       "      <td>흰색</td>\n",
       "      <td>구두</td>\n",
       "      <td>강남</td>\n",
       "      <td>컴공</td>\n",
       "      <td>맥OS</td>\n",
       "    </tr>\n",
       "    <tr>\n",
       "      <th>2</th>\n",
       "      <td>2017. 10. 16 오전 5:57:16</td>\n",
       "      <td>닉3</td>\n",
       "      <td>대학생</td>\n",
       "      <td>남</td>\n",
       "      <td>20</td>\n",
       "      <td>평상복</td>\n",
       "      <td>흰색</td>\n",
       "      <td>노랑</td>\n",
       "      <td>청바지</td>\n",
       "      <td>흰색</td>\n",
       "      <td>구두</td>\n",
       "      <td>강남</td>\n",
       "      <td>컴공</td>\n",
       "      <td>맥OS</td>\n",
       "    </tr>\n",
       "    <tr>\n",
       "      <th>3</th>\n",
       "      <td>2017. 10. 16 오전 5:57:16</td>\n",
       "      <td>닉4</td>\n",
       "      <td>대학생</td>\n",
       "      <td>남</td>\n",
       "      <td>20</td>\n",
       "      <td>평상복</td>\n",
       "      <td>흰색</td>\n",
       "      <td>노랑</td>\n",
       "      <td>청바지</td>\n",
       "      <td>흰색</td>\n",
       "      <td>구두</td>\n",
       "      <td>강남</td>\n",
       "      <td>컴공</td>\n",
       "      <td>맥OS</td>\n",
       "    </tr>\n",
       "    <tr>\n",
       "      <th>4</th>\n",
       "      <td>2017. 10. 16 오전 5:57:16</td>\n",
       "      <td>닉5</td>\n",
       "      <td>대학생</td>\n",
       "      <td>남</td>\n",
       "      <td>20</td>\n",
       "      <td>평상복</td>\n",
       "      <td>흰색</td>\n",
       "      <td>흰색</td>\n",
       "      <td>청바지</td>\n",
       "      <td>흰색</td>\n",
       "      <td>구두</td>\n",
       "      <td>강남</td>\n",
       "      <td>컴공</td>\n",
       "      <td>맥OS</td>\n",
       "    </tr>\n",
       "  </tbody>\n",
       "</table>\n",
       "</div>"
      ],
      "text/plain": [
       "                     타임스탬프 닉네임   직업 성별  나이   복장 상의옷색상 하의옷색상 하의옷종류 신발색상 신발종류  \\\n",
       "0  2017. 10. 16 오전 5:57:16  닉1  대학생  남  20  평상복    흰색    흰색   청바지   흰색   구두   \n",
       "1  2017. 10. 16 오전 5:57:16  닉2  대학생  남  20  평상복    흰색    흰색   청바지   흰색   구두   \n",
       "2  2017. 10. 16 오전 5:57:16  닉3  대학생  남  20  평상복    흰색    노랑   청바지   흰색   구두   \n",
       "3  2017. 10. 16 오전 5:57:16  닉4  대학생  남  20  평상복    흰색    노랑   청바지   흰색   구두   \n",
       "4  2017. 10. 16 오전 5:57:16  닉5  대학생  남  20  평상복    흰색    흰색   청바지   흰색   구두   \n",
       "\n",
       "  사는곳  전공 실습환경OS  \n",
       "0  강남  컴공    맥OS  \n",
       "1  강남  컴공    맥OS  \n",
       "2  강남  컴공    맥OS  \n",
       "3  강남  컴공    맥OS  \n",
       "4  강남  컴공    맥OS  "
      ]
     },
     "execution_count": 5,
     "metadata": {},
     "output_type": "execute_result"
    }
   ],
   "source": [
    "#load data\n",
    "\n",
    "survey = pd.read_csv('class-survey-sample.csv',encoding='utf-8')\n",
    "survey.head()"
   ]
  },
  {
   "cell_type": "code",
   "execution_count": 6,
   "metadata": {},
   "outputs": [
    {
     "name": "stdout",
     "output_type": "stream",
     "text": [
      "RangeIndex(start=0, stop=43, step=1)\n",
      "Index(['타임스탬프', '닉네임', '직업', '성별', '나이', '복장', '상의옷색상', '하의옷색상', '하의옷종류',\n",
      "       '신발색상', '신발종류', '사는곳', '전공', '실습환경OS'],\n",
      "      dtype='object')\n"
     ]
    }
   ],
   "source": [
    "#basic information check\n",
    "print(survey.index)\n",
    "print(survey.columns)"
   ]
  },
  {
   "cell_type": "code",
   "execution_count": 7,
   "metadata": {},
   "outputs": [
    {
     "name": "stdout",
     "output_type": "stream",
     "text": [
      "['남' '여']\n",
      "['흰색' '노랑' '검정' '회색' '파랑']\n",
      "['컴공' '정보통신' '통계' '경영' '회계' '마켓팅']\n",
      "['강남' '강북' '강동' '강서' '경기남부' '경기북부' '경기동부' '경기서부']\n",
      "['맥OS' '윈도우OS']\n",
      "['대학생' '대학원생' '예비 스타트업' '재직자' '취업준비생']\n",
      "['흰색' '검정' '파랑' '빨강']\n",
      "[20 25 30 35 40]\n",
      "['흰색' '노랑' '검정' '회색' '파랑' '주황']\n",
      "['청바지' '치마' '면바지' '반바지']\n",
      "['평상복' '캐주얼' '정장']\n",
      "['닉1' '닉2' '닉3' '닉4' '닉5' '닉6' '닉7' '닉8' '닉9' '닉10' '닉11' '닉12' '닉13' '닉14'\n",
      " '닉15' '닉16' '닉17' '닉18' '닉19' '닉20' '닉21' '닉22' '닉23' '닉24' '닉25' '닉26'\n",
      " '닉27' '닉28' '닉29' '닉30' '닉31' '닉32' '닉33' '닉34' '닉35' '닉36' '닉37' '닉38'\n",
      " '닉39' '닉40' '닉41' '닉42' '닉43']\n",
      "['구두' '런닝화' '농구화' '단화']\n",
      "['2017. 10. 16 오전 5:57:16']\n"
     ]
    }
   ],
   "source": [
    "#변수별로 unique value 찾기\n",
    "column_list = list(set(survey))\n",
    "   \n",
    "for i in range(14):\n",
    "    print(survey[column_list[i]].unique())"
   ]
  },
  {
   "cell_type": "code",
   "execution_count": 8,
   "metadata": {},
   "outputs": [
    {
     "name": "stdout",
     "output_type": "stream",
     "text": [
      "남    33\n",
      "여    10\n",
      "Name: 성별, dtype: int64\n",
      "파랑    11\n",
      "노랑     9\n",
      "검정     9\n",
      "회색     8\n",
      "흰색     6\n",
      "Name: 하의옷색상, dtype: int64\n",
      "통계      14\n",
      "컴공      10\n",
      "정보통신     7\n",
      "경영       6\n",
      "마켓팅      4\n",
      "회계       2\n",
      "Name: 전공, dtype: int64\n",
      "강남      8\n",
      "경기남부    8\n",
      "강동      7\n",
      "강서      6\n",
      "강북      6\n",
      "경기북부    4\n",
      "경기동부    2\n",
      "경기서부    2\n",
      "Name: 사는곳, dtype: int64\n",
      "맥OS      23\n",
      "윈도우OS    20\n",
      "Name: 실습환경OS, dtype: int64\n",
      "취업준비생      19\n",
      "대학생        18\n",
      "대학원생        3\n",
      "재직자         2\n",
      "예비 스타트업     1\n",
      "Name: 직업, dtype: int64\n",
      "흰색    23\n",
      "검정    10\n",
      "파랑     8\n",
      "빨강     2\n",
      "Name: 신발색상, dtype: int64\n",
      "20    11\n",
      "30    10\n",
      "25    10\n",
      "40     6\n",
      "35     6\n",
      "Name: 나이, dtype: int64\n",
      "흰색    10\n",
      "회색    10\n",
      "노랑     6\n",
      "파랑     6\n",
      "검정     6\n",
      "주황     5\n",
      "Name: 상의옷색상, dtype: int64\n",
      "청바지    30\n",
      "면바지     6\n",
      "반바지     4\n",
      "치마      3\n",
      "Name: 하의옷종류, dtype: int64\n",
      "평상복    29\n",
      "캐주얼     8\n",
      "정장      6\n",
      "Name: 복장, dtype: int64\n",
      "닉16    1\n",
      "닉29    1\n",
      "닉35    1\n",
      "닉26    1\n",
      "닉6     1\n",
      "      ..\n",
      "닉33    1\n",
      "닉8     1\n",
      "닉5     1\n",
      "닉4     1\n",
      "닉20    1\n",
      "Name: 닉네임, Length: 43, dtype: int64\n",
      "런닝화    26\n",
      "구두      7\n",
      "농구화     6\n",
      "단화      4\n",
      "Name: 신발종류, dtype: int64\n",
      "2017. 10. 16 오전 5:57:16    43\n",
      "Name: 타임스탬프, dtype: int64\n"
     ]
    }
   ],
   "source": [
    "# unique value 개수 세기\n",
    "\n",
    "for i in range(14):\n",
    "    print(survey[column_list[i]].value_counts())"
   ]
  },
  {
   "cell_type": "code",
   "execution_count": 9,
   "metadata": {},
   "outputs": [],
   "source": [
    "# Clustering \n",
    "# (1). Variable selection \n",
    "\n",
    "feature_name = ['닉네임', '복장','상의옷색상','하의옷색상','하의옷종류','신발색상','신발종류']\n",
    "survey_hc = survey[feature_name]"
   ]
  },
  {
   "cell_type": "code",
   "execution_count": 10,
   "metadata": {},
   "outputs": [],
   "source": [
    "survey_hc.set_index('닉네임', inplace = True)"
   ]
  },
  {
   "cell_type": "code",
   "execution_count": 11,
   "metadata": {},
   "outputs": [],
   "source": [
    "from sklearn.preprocessing import LabelEncoder, OneHotEncoder\n",
    "from collections import defaultdict"
   ]
  },
  {
   "cell_type": "code",
   "execution_count": 12,
   "metadata": {},
   "outputs": [],
   "source": [
    "# (2). label encoding\n",
    "le_enc_dict = defaultdict(LabelEncoder)\n",
    "le_feature = survey_hc.apply(lambda x : le_enc_dict[x.name].fit_transform(x))"
   ]
  },
  {
   "cell_type": "code",
   "execution_count": 13,
   "metadata": {},
   "outputs": [
    {
     "data": {
      "text/html": [
       "<div>\n",
       "<style>\n",
       "    .dataframe thead tr:only-child th {\n",
       "        text-align: right;\n",
       "    }\n",
       "\n",
       "    .dataframe thead th {\n",
       "        text-align: left;\n",
       "    }\n",
       "\n",
       "    .dataframe tbody tr th {\n",
       "        vertical-align: top;\n",
       "    }\n",
       "</style>\n",
       "<table border=\"1\" class=\"dataframe\">\n",
       "  <thead>\n",
       "    <tr style=\"text-align: right;\">\n",
       "      <th></th>\n",
       "      <th>복장</th>\n",
       "      <th>상의옷색상</th>\n",
       "      <th>하의옷색상</th>\n",
       "      <th>하의옷종류</th>\n",
       "      <th>신발색상</th>\n",
       "      <th>신발종류</th>\n",
       "    </tr>\n",
       "    <tr>\n",
       "      <th>닉네임</th>\n",
       "      <th></th>\n",
       "      <th></th>\n",
       "      <th></th>\n",
       "      <th></th>\n",
       "      <th></th>\n",
       "      <th></th>\n",
       "    </tr>\n",
       "  </thead>\n",
       "  <tbody>\n",
       "    <tr>\n",
       "      <th>닉1</th>\n",
       "      <td>2</td>\n",
       "      <td>5</td>\n",
       "      <td>4</td>\n",
       "      <td>2</td>\n",
       "      <td>3</td>\n",
       "      <td>0</td>\n",
       "    </tr>\n",
       "    <tr>\n",
       "      <th>닉2</th>\n",
       "      <td>2</td>\n",
       "      <td>5</td>\n",
       "      <td>4</td>\n",
       "      <td>2</td>\n",
       "      <td>3</td>\n",
       "      <td>0</td>\n",
       "    </tr>\n",
       "    <tr>\n",
       "      <th>닉3</th>\n",
       "      <td>2</td>\n",
       "      <td>5</td>\n",
       "      <td>1</td>\n",
       "      <td>2</td>\n",
       "      <td>3</td>\n",
       "      <td>0</td>\n",
       "    </tr>\n",
       "    <tr>\n",
       "      <th>닉4</th>\n",
       "      <td>2</td>\n",
       "      <td>5</td>\n",
       "      <td>1</td>\n",
       "      <td>2</td>\n",
       "      <td>3</td>\n",
       "      <td>0</td>\n",
       "    </tr>\n",
       "    <tr>\n",
       "      <th>닉5</th>\n",
       "      <td>2</td>\n",
       "      <td>5</td>\n",
       "      <td>4</td>\n",
       "      <td>2</td>\n",
       "      <td>3</td>\n",
       "      <td>0</td>\n",
       "    </tr>\n",
       "  </tbody>\n",
       "</table>\n",
       "</div>"
      ],
      "text/plain": [
       "     복장  상의옷색상  하의옷색상  하의옷종류  신발색상  신발종류\n",
       "닉네임                                     \n",
       "닉1    2      5      4      2     3     0\n",
       "닉2    2      5      4      2     3     0\n",
       "닉3    2      5      1      2     3     0\n",
       "닉4    2      5      1      2     3     0\n",
       "닉5    2      5      4      2     3     0"
      ]
     },
     "execution_count": 13,
     "metadata": {},
     "output_type": "execute_result"
    }
   ],
   "source": [
    "le_feature.head()"
   ]
  },
  {
   "cell_type": "code",
   "execution_count": 17,
   "metadata": {},
   "outputs": [
    {
     "data": {
      "image/png": "[encoded data removed]",
      "text/plain": [
       "<matplotlib.figure.Figure at 0x22c62d0e358>"
      ]
     },
     "metadata": {},
     "output_type": "display_data"
    }
   ],
   "source": [
    "# hierarchical clustering 적용\n",
    "\n",
    "sns.set(style ='whitegrid', font_scale=1, font='NanumSquare')\n",
    "g = sns.clustermap(le_feature,metric='jaccard', linewidths=.5)"
   ]
  }
 ],
 "metadata": {
  "kernelspec": {
   "display_name": "Python 3",
   "language": "python",
   "name": "python3"
  },
  "language_info": {
   "codemirror_mode": {
    "name": "ipython",
    "version": 3
   },
   "file_extension": ".py",
   "mimetype": "text/x-python",
   "name": "python",
   "nbconvert_exporter": "python",
   "pygments_lexer": "ipython3",
   "version": "3.6.3"
  }
 },
 "nbformat": 4,
 "nbformat_minor": 2
}
