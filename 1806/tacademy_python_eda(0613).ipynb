{
 "cells": [
  {
   "cell_type": "markdown",
   "metadata": {},
   "source": [
    "# Tacademy - (1). Python을 활용한 데이터분석 실습"
   ]
  },
  {
   "cell_type": "markdown",
   "metadata": {},
   "source": [
    "### 1. 강남 출근길에 정자_판교 내릴 사람 예측하기\n",
    "\n",
    "* EDA : 쌓여 있는 데이터를 기반으로 가설을 세워 데이터를 분석하는 방법<br>\n",
    "\n",
    "    * 수집 --> 탐색/정제 --> 모델링 --> 결과 <br>\n",
    "    \n",
    "    * Missing value --> default 처리 / drop / KNN input 등등... <br>\n",
    "   \n",
    "    (Feature Distribution Plot?? / Column Value Validation??) <br>\n",
    "        \n",
    "        \n",
    "* CDA : 목적을 가지고 데이터를 수집하고 분석하는 방법\n",
    "\n",
    "\n",
    "----------------------------------------------------------------------------\n",
    "\n",
    "+ Correlation \n",
    "    + 상관계수측정을 위해 categorical data -> number type 변환\n",
    "    + categorical value --> label encoding --> one hot encoding(binary) \n",
    "    --> correlation matrix --> clustering by correlation <br>\n",
    "\n",
    "(Bivariate Distribution Plot??)\n",
    "\n",
    "----------------------------------------------------------------------------\n",
    "\n",
    "+ Modeling <br>\n",
    "    + Modeling Overview : feature / classfication or regression / imbalanced data / data 건수 <br>\n",
    "    \n",
    "    + Model baseline : data의 특성에 따라\n",
    "    \n",
    "    + dataset 분리 : trainset / testset\n",
    "    \n",
    "    + Classification algorithm : <br>\n",
    "        Tree - Decision / randomforest / gradient boosting <br>\n",
    "        Regression - Logistic <br>\n",
    "        SVM - SVC <br>\n",
    "        KNN - KNeighbors classifier <br>\n",
    "        Bayesian - Multinomial NB <br>\n",
    "        Neural Network - MLPClassifier <br>\n",
    "                                 \n",
    "    + Featur Importances --> RF에서 불순도 감소분으로 각 Feature들의 중요도를 가늠 --> 변수 선택으로도 사용가능\n",
    "    \n",
    "----------------------------------------------------------------------------\n",
    "\n",
    "- Metric (Confusion Matrix)\n",
    "    - Precision / Recall\n",
    "    "
   ]
  },
  {
   "cell_type": "markdown",
   "metadata": {},
   "source": [
    "### 2. 설문 조사 데이터 탐색"
   ]
  },
  {
   "cell_type": "code",
   "execution_count": 4,
   "metadata": {},
   "outputs": [
    {
     "name": "stdout",
     "output_type": "stream",
     "text": [
      "C:\\Users\\hanbum\\Desktop\\2018\\work\\2. Project\\3. Personal\\tacademy\\1. python_eda\n"
     ]
    }
   ],
   "source": [
    "import pandas as pd\n",
    "import numpy as np\n",
    "import seaborn as sns\n",
    "import matplotlib as plt\n",
    "\n",
    "\n",
    "%cd C:\\Users\\hanbum\\Desktop\\2018\\work\\2. Project\\3. Personal\\tacademy\\1. python_eda\n",
    "\n",
    "pd.options.display.max_rows = 10\n",
    "%matplotlib inline"
   ]
  },
  {
   "cell_type": "code",
   "execution_count": 5,
   "metadata": {},
   "outputs": [
    {
     "data": {
      "text/html": [
       "<div>\n",
       "<style>\n",
       "    .dataframe thead tr:only-child th {\n",
       "        text-align: right;\n",
       "    }\n",
       "\n",
       "    .dataframe thead th {\n",
       "        text-align: left;\n",
       "    }\n",
       "\n",
       "    .dataframe tbody tr th {\n",
       "        vertical-align: top;\n",
       "    }\n",
       "</style>\n",
       "<table border=\"1\" class=\"dataframe\">\n",
       "  <thead>\n",
       "    <tr style=\"text-align: right;\">\n",
       "      <th></th>\n",
       "      <th>타임스탬프</th>\n",
       "      <th>닉네임</th>\n",
       "      <th>직업</th>\n",
       "      <th>성별</th>\n",
       "      <th>나이</th>\n",
       "      <th>복장</th>\n",
       "      <th>상의옷색상</th>\n",
       "      <th>하의옷색상</th>\n",
       "      <th>하의옷종류</th>\n",
       "      <th>신발색상</th>\n",
       "      <th>신발종류</th>\n",
       "      <th>사는곳</th>\n",
       "      <th>전공</th>\n",
       "      <th>실습환경OS</th>\n",
       "    </tr>\n",
       "  </thead>\n",
       "  <tbody>\n",
       "    <tr>\n",
       "      <th>0</th>\n",
       "      <td>2017. 10. 16 오전 5:57:16</td>\n",
       "      <td>닉1</td>\n",
       "      <td>대학생</td>\n",
       "      <td>남</td>\n",
       "      <td>20</td>\n",
       "      <td>평상복</td>\n",
       "      <td>흰색</td>\n",
       "      <td>흰색</td>\n",
       "      <td>청바지</td>\n",
       "      <td>흰색</td>\n",
       "      <td>구두</td>\n",
       "      <td>강남</td>\n",
       "      <td>컴공</td>\n",
       "      <td>맥OS</td>\n",
       "    </tr>\n",
       "    <tr>\n",
       "      <th>1</th>\n",
       "      <td>2017. 10. 16 오전 5:57:16</td>\n",
       "      <td>닉2</td>\n",
       "      <td>대학생</td>\n",
       "      <td>남</td>\n",
       "      <td>20</td>\n",
       "      <td>평상복</td>\n",
       "      <td>흰색</td>\n",
       "      <td>흰색</td>\n",
       "      <td>청바지</td>\n",
       "      <td>흰색</td>\n",
       "      <td>구두</td>\n",
       "      <td>강남</td>\n",
       "      <td>컴공</td>\n",
       "      <td>맥OS</td>\n",
       "    </tr>\n",
       "    <tr>\n",
       "      <th>2</th>\n",
       "      <td>2017. 10. 16 오전 5:57:16</td>\n",
       "      <td>닉3</td>\n",
       "      <td>대학생</td>\n",
       "      <td>남</td>\n",
       "      <td>20</td>\n",
       "      <td>평상복</td>\n",
       "      <td>흰색</td>\n",
       "      <td>노랑</td>\n",
       "      <td>청바지</td>\n",
       "      <td>흰색</td>\n",
       "      <td>구두</td>\n",
       "      <td>강남</td>\n",
       "      <td>컴공</td>\n",
       "      <td>맥OS</td>\n",
       "    </tr>\n",
       "    <tr>\n",
       "      <th>3</th>\n",
       "      <td>2017. 10. 16 오전 5:57:16</td>\n",
       "      <td>닉4</td>\n",
       "      <td>대학생</td>\n",
       "      <td>남</td>\n",
       "      <td>20</td>\n",
       "      <td>평상복</td>\n",
       "      <td>흰색</td>\n",
       "      <td>노랑</td>\n",
       "      <td>청바지</td>\n",
       "      <td>흰색</td>\n",
       "      <td>구두</td>\n",
       "      <td>강남</td>\n",
       "      <td>컴공</td>\n",
       "      <td>맥OS</td>\n",
       "    </tr>\n",
       "    <tr>\n",
       "      <th>4</th>\n",
       "      <td>2017. 10. 16 오전 5:57:16</td>\n",
       "      <td>닉5</td>\n",
       "      <td>대학생</td>\n",
       "      <td>남</td>\n",
       "      <td>20</td>\n",
       "      <td>평상복</td>\n",
       "      <td>흰색</td>\n",
       "      <td>흰색</td>\n",
       "      <td>청바지</td>\n",
       "      <td>흰색</td>\n",
       "      <td>구두</td>\n",
       "      <td>강남</td>\n",
       "      <td>컴공</td>\n",
       "      <td>맥OS</td>\n",
       "    </tr>\n",
       "  </tbody>\n",
       "</table>\n",
       "</div>"
      ],
      "text/plain": [
       "                     타임스탬프 닉네임   직업 성별  나이   복장 상의옷색상 하의옷색상 하의옷종류 신발색상 신발종류  \\\n",
       "0  2017. 10. 16 오전 5:57:16  닉1  대학생  남  20  평상복    흰색    흰색   청바지   흰색   구두   \n",
       "1  2017. 10. 16 오전 5:57:16  닉2  대학생  남  20  평상복    흰색    흰색   청바지   흰색   구두   \n",
       "2  2017. 10. 16 오전 5:57:16  닉3  대학생  남  20  평상복    흰색    노랑   청바지   흰색   구두   \n",
       "3  2017. 10. 16 오전 5:57:16  닉4  대학생  남  20  평상복    흰색    노랑   청바지   흰색   구두   \n",
       "4  2017. 10. 16 오전 5:57:16  닉5  대학생  남  20  평상복    흰색    흰색   청바지   흰색   구두   \n",
       "\n",
       "  사는곳  전공 실습환경OS  \n",
       "0  강남  컴공    맥OS  \n",
       "1  강남  컴공    맥OS  \n",
       "2  강남  컴공    맥OS  \n",
       "3  강남  컴공    맥OS  \n",
       "4  강남  컴공    맥OS  "
      ]
     },
     "execution_count": 5,
     "metadata": {},
     "output_type": "execute_result"
    }
   ],
   "source": [
    "#load data\n",
    "\n",
    "survey = pd.read_csv('class-survey-sample.csv',encoding='utf-8')\n",
    "survey.head()"
   ]
  },
  {
   "cell_type": "code",
   "execution_count": 6,
   "metadata": {},
   "outputs": [
    {
     "name": "stdout",
     "output_type": "stream",
     "text": [
      "RangeIndex(start=0, stop=43, step=1)\n",
      "Index(['타임스탬프', '닉네임', '직업', '성별', '나이', '복장', '상의옷색상', '하의옷색상', '하의옷종류',\n",
      "       '신발색상', '신발종류', '사는곳', '전공', '실습환경OS'],\n",
      "      dtype='object')\n"
     ]
    }
   ],
   "source": [
    "#basic information check\n",
    "print(survey.index)\n",
    "print(survey.columns)"
   ]
  },
  {
   "cell_type": "code",
   "execution_count": 7,
   "metadata": {},
   "outputs": [
    {
     "name": "stdout",
     "output_type": "stream",
     "text": [
      "['남' '여']\n",
      "['흰색' '노랑' '검정' '회색' '파랑']\n",
      "['컴공' '정보통신' '통계' '경영' '회계' '마켓팅']\n",
      "['강남' '강북' '강동' '강서' '경기남부' '경기북부' '경기동부' '경기서부']\n",
      "['맥OS' '윈도우OS']\n",
      "['대학생' '대학원생' '예비 스타트업' '재직자' '취업준비생']\n",
      "['흰색' '검정' '파랑' '빨강']\n",
      "[20 25 30 35 40]\n",
      "['흰색' '노랑' '검정' '회색' '파랑' '주황']\n",
      "['청바지' '치마' '면바지' '반바지']\n",
      "['평상복' '캐주얼' '정장']\n",
      "['닉1' '닉2' '닉3' '닉4' '닉5' '닉6' '닉7' '닉8' '닉9' '닉10' '닉11' '닉12' '닉13' '닉14'\n",
      " '닉15' '닉16' '닉17' '닉18' '닉19' '닉20' '닉21' '닉22' '닉23' '닉24' '닉25' '닉26'\n",
      " '닉27' '닉28' '닉29' '닉30' '닉31' '닉32' '닉33' '닉34' '닉35' '닉36' '닉37' '닉38'\n",
      " '닉39' '닉40' '닉41' '닉42' '닉43']\n",
      "['구두' '런닝화' '농구화' '단화']\n",
      "['2017. 10. 16 오전 5:57:16']\n"
     ]
    }
   ],
   "source": [
    "#변수별로 unique value 찾기\n",
    "column_list = list(set(survey))\n",
    "   \n",
    "for i in range(14):\n",
    "    print(survey[column_list[i]].unique())"
   ]
  },
  {
   "cell_type": "code",
   "execution_count": 8,
   "metadata": {},
   "outputs": [
    {
     "name": "stdout",
     "output_type": "stream",
     "text": [
      "남    33\n",
      "여    10\n",
      "Name: 성별, dtype: int64\n",
      "파랑    11\n",
      "노랑     9\n",
      "검정     9\n",
      "회색     8\n",
      "흰색     6\n",
      "Name: 하의옷색상, dtype: int64\n",
      "통계      14\n",
      "컴공      10\n",
      "정보통신     7\n",
      "경영       6\n",
      "마켓팅      4\n",
      "회계       2\n",
      "Name: 전공, dtype: int64\n",
      "강남      8\n",
      "경기남부    8\n",
      "강동      7\n",
      "강서      6\n",
      "강북      6\n",
      "경기북부    4\n",
      "경기동부    2\n",
      "경기서부    2\n",
      "Name: 사는곳, dtype: int64\n",
      "맥OS      23\n",
      "윈도우OS    20\n",
      "Name: 실습환경OS, dtype: int64\n",
      "취업준비생      19\n",
      "대학생        18\n",
      "대학원생        3\n",
      "재직자         2\n",
      "예비 스타트업     1\n",
      "Name: 직업, dtype: int64\n",
      "흰색    23\n",
      "검정    10\n",
      "파랑     8\n",
      "빨강     2\n",
      "Name: 신발색상, dtype: int64\n",
      "20    11\n",
      "30    10\n",
      "25    10\n",
      "40     6\n",
      "35     6\n",
      "Name: 나이, dtype: int64\n",
      "흰색    10\n",
      "회색    10\n",
      "노랑     6\n",
      "파랑     6\n",
      "검정     6\n",
      "주황     5\n",
      "Name: 상의옷색상, dtype: int64\n",
      "청바지    30\n",
      "면바지     6\n",
      "반바지     4\n",
      "치마      3\n",
      "Name: 하의옷종류, dtype: int64\n",
      "평상복    29\n",
      "캐주얼     8\n",
      "정장      6\n",
      "Name: 복장, dtype: int64\n",
      "닉16    1\n",
      "닉29    1\n",
      "닉35    1\n",
      "닉26    1\n",
      "닉6     1\n",
      "      ..\n",
      "닉33    1\n",
      "닉8     1\n",
      "닉5     1\n",
      "닉4     1\n",
      "닉20    1\n",
      "Name: 닉네임, Length: 43, dtype: int64\n",
      "런닝화    26\n",
      "구두      7\n",
      "농구화     6\n",
      "단화      4\n",
      "Name: 신발종류, dtype: int64\n",
      "2017. 10. 16 오전 5:57:16    43\n",
      "Name: 타임스탬프, dtype: int64\n"
     ]
    }
   ],
   "source": [
    "# unique value 개수 세기\n",
    "\n",
    "for i in range(14):\n",
    "    print(survey[column_list[i]].value_counts())"
   ]
  },
  {
   "cell_type": "code",
   "execution_count": 9,
   "metadata": {},
   "outputs": [],
   "source": [
    "# Clustering \n",
    "# (1). Variable selection \n",
    "\n",
    "feature_name = ['닉네임', '복장','상의옷색상','하의옷색상','하의옷종류','신발색상','신발종류']\n",
    "survey_hc = survey[feature_name]"
   ]
  },
  {
   "cell_type": "code",
   "execution_count": 10,
   "metadata": {},
   "outputs": [],
   "source": [
    "survey_hc.set_index('닉네임', inplace = True)"
   ]
  },
  {
   "cell_type": "code",
   "execution_count": 11,
   "metadata": {},
   "outputs": [],
   "source": [
    "from sklearn.preprocessing import LabelEncoder, OneHotEncoder\n",
    "from collections import defaultdict"
   ]
  },
  {
   "cell_type": "code",
   "execution_count": 12,
   "metadata": {},
   "outputs": [],
   "source": [
    "# (2). label encoding\n",
    "le_enc_dict = defaultdict(LabelEncoder)\n",
    "le_feature = survey_hc.apply(lambda x : le_enc_dict[x.name].fit_transform(x))"
   ]
  },
  {
   "cell_type": "code",
   "execution_count": 13,
   "metadata": {},
   "outputs": [
    {
     "data": {
      "text/html": [
       "<div>\n",
       "<style>\n",
       "    .dataframe thead tr:only-child th {\n",
       "        text-align: right;\n",
       "    }\n",
       "\n",
       "    .dataframe thead th {\n",
       "        text-align: left;\n",
       "    }\n",
       "\n",
       "    .dataframe tbody tr th {\n",
       "        vertical-align: top;\n",
       "    }\n",
       "</style>\n",
       "<table border=\"1\" class=\"dataframe\">\n",
       "  <thead>\n",
       "    <tr style=\"text-align: right;\">\n",
       "      <th></th>\n",
       "      <th>복장</th>\n",
       "      <th>상의옷색상</th>\n",
       "      <th>하의옷색상</th>\n",
       "      <th>하의옷종류</th>\n",
       "      <th>신발색상</th>\n",
       "      <th>신발종류</th>\n",
       "    </tr>\n",
       "    <tr>\n",
       "      <th>닉네임</th>\n",
       "      <th></th>\n",
       "      <th></th>\n",
       "      <th></th>\n",
       "      <th></th>\n",
       "      <th></th>\n",
       "      <th></th>\n",
       "    </tr>\n",
       "  </thead>\n",
       "  <tbody>\n",
       "    <tr>\n",
       "      <th>닉1</th>\n",
       "      <td>2</td>\n",
       "      <td>5</td>\n",
       "      <td>4</td>\n",
       "      <td>2</td>\n",
       "      <td>3</td>\n",
       "      <td>0</td>\n",
       "    </tr>\n",
       "    <tr>\n",
       "      <th>닉2</th>\n",
       "      <td>2</td>\n",
       "      <td>5</td>\n",
       "      <td>4</td>\n",
       "      <td>2</td>\n",
       "      <td>3</td>\n",
       "      <td>0</td>\n",
       "    </tr>\n",
       "    <tr>\n",
       "      <th>닉3</th>\n",
       "      <td>2</td>\n",
       "      <td>5</td>\n",
       "      <td>1</td>\n",
       "      <td>2</td>\n",
       "      <td>3</td>\n",
       "      <td>0</td>\n",
       "    </tr>\n",
       "    <tr>\n",
       "      <th>닉4</th>\n",
       "      <td>2</td>\n",
       "      <td>5</td>\n",
       "      <td>1</td>\n",
       "      <td>2</td>\n",
       "      <td>3</td>\n",
       "      <td>0</td>\n",
       "    </tr>\n",
       "    <tr>\n",
       "      <th>닉5</th>\n",
       "      <td>2</td>\n",
       "      <td>5</td>\n",
       "      <td>4</td>\n",
       "      <td>2</td>\n",
       "      <td>3</td>\n",
       "      <td>0</td>\n",
       "    </tr>\n",
       "  </tbody>\n",
       "</table>\n",
       "</div>"
      ],
      "text/plain": [
       "     복장  상의옷색상  하의옷색상  하의옷종류  신발색상  신발종류\n",
       "닉네임                                     \n",
       "닉1    2      5      4      2     3     0\n",
       "닉2    2      5      4      2     3     0\n",
       "닉3    2      5      1      2     3     0\n",
       "닉4    2      5      1      2     3     0\n",
       "닉5    2      5      4      2     3     0"
      ]
     },
     "execution_count": 13,
     "metadata": {},
     "output_type": "execute_result"
    }
   ],
   "source": [
    "le_feature.head()"
   ]
  },
  {
   "cell_type": "code",
   "execution_count": 17,
   "metadata": {},
   "outputs": [
    {
     "data": {
      "image/png": "[encoded data removed]",
      "text/plain": [
       "<matplotlib.figure.Figure at 0x22c62d0e358>"
      ]
     },
     "metadata": {},
     "output_type": "display_data"
    }
   ],
   "source": [
    "# hierarchical clustering 적용\n",
    "\n",
    "sns.set(style ='whitegrid', font_scale=1, font='NanumSquare')\n",
    "g = sns.clustermap(le_feature,metric='jaccard', linewidths=.5)"
   ]
  },
  {
   "cell_type": "markdown",
   "metadata": {},
   "source": [
    "### 유사도\n",
    "\n",
    "+ "
   ]
  }
 ],
 "metadata": {
  "kernelspec": {
   "display_name": "Python 3",
   "language": "python",
   "name": "python3"
  },
  "language_info": {
   "codemirror_mode": {
    "name": "ipython",
    "version": 3
   },
   "file_extension": ".py",
   "mimetype": "text/x-python",
   "name": "python",
   "nbconvert_exporter": "python",
   "pygments_lexer": "ipython3",
   "version": "3.6.3"
  }
 },
 "nbformat": 4,
 "nbformat_minor": 2
}
